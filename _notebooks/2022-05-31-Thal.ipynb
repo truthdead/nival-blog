{
 "cells": [
  {
   "cell_type": "code",
   "execution_count": 1,
   "metadata": {},
   "outputs": [],
   "source": [
    "import matplotlib.pyplot as plt\n",
    "import pandas as pd\n",
    "import numpy as np\n",
    "%matplotlib inline\n",
    "import seaborn as sns"
   ]
  },
  {
   "cell_type": "code",
   "execution_count": 2,
   "metadata": {},
   "outputs": [],
   "source": [
    "thal = pd.read_csv('thalcleaned_outliers.csv')\n",
    "thal2 = pd.read_csv('thalcleaned_outliers2.csv')"
   ]
  },
  {
   "cell_type": "code",
   "execution_count": 3,
   "metadata": {},
   "outputs": [
    {
     "data": {
      "text/html": [
       "<div>\n",
       "<style scoped>\n",
       "    .dataframe tbody tr th:only-of-type {\n",
       "        vertical-align: middle;\n",
       "    }\n",
       "\n",
       "    .dataframe tbody tr th {\n",
       "        vertical-align: top;\n",
       "    }\n",
       "\n",
       "    .dataframe thead th {\n",
       "        text-align: right;\n",
       "    }\n",
       "</style>\n",
       "<table border=\"1\" class=\"dataframe\">\n",
       "  <thead>\n",
       "    <tr style=\"text-align: right;\">\n",
       "      <th></th>\n",
       "      <th>no</th>\n",
       "      <th>hb</th>\n",
       "      <th>pcv</th>\n",
       "      <th>rbc</th>\n",
       "      <th>mcv</th>\n",
       "      <th>mch</th>\n",
       "      <th>mchc</th>\n",
       "      <th>rdw</th>\n",
       "      <th>wbc</th>\n",
       "      <th>neut</th>\n",
       "      <th>lymph</th>\n",
       "      <th>plt</th>\n",
       "      <th>hba</th>\n",
       "      <th>hba2</th>\n",
       "      <th>hbf</th>\n",
       "    </tr>\n",
       "  </thead>\n",
       "  <tbody>\n",
       "    <tr>\n",
       "      <th>count</th>\n",
       "      <td>243.000000</td>\n",
       "      <td>243.000000</td>\n",
       "      <td>243.000000</td>\n",
       "      <td>242.000000</td>\n",
       "      <td>243.000000</td>\n",
       "      <td>241.000000</td>\n",
       "      <td>243.000000</td>\n",
       "      <td>243.000000</td>\n",
       "      <td>243.000000</td>\n",
       "      <td>243.000000</td>\n",
       "      <td>243.000000</td>\n",
       "      <td>243.000000</td>\n",
       "      <td>243.000000</td>\n",
       "      <td>243.000000</td>\n",
       "      <td>243.000000</td>\n",
       "    </tr>\n",
       "    <tr>\n",
       "      <th>mean</th>\n",
       "      <td>143.514403</td>\n",
       "      <td>11.799712</td>\n",
       "      <td>36.109301</td>\n",
       "      <td>5.086123</td>\n",
       "      <td>72.251140</td>\n",
       "      <td>23.452697</td>\n",
       "      <td>32.209671</td>\n",
       "      <td>15.208232</td>\n",
       "      <td>101.878340</td>\n",
       "      <td>46.986866</td>\n",
       "      <td>42.840218</td>\n",
       "      <td>329.805780</td>\n",
       "      <td>86.098491</td>\n",
       "      <td>2.751195</td>\n",
       "      <td>0.664832</td>\n",
       "    </tr>\n",
       "    <tr>\n",
       "      <th>std</th>\n",
       "      <td>83.962622</td>\n",
       "      <td>1.864599</td>\n",
       "      <td>4.979802</td>\n",
       "      <td>0.651812</td>\n",
       "      <td>9.785879</td>\n",
       "      <td>3.982755</td>\n",
       "      <td>2.123092</td>\n",
       "      <td>2.498933</td>\n",
       "      <td>1343.898711</td>\n",
       "      <td>12.194046</td>\n",
       "      <td>12.057044</td>\n",
       "      <td>122.601262</td>\n",
       "      <td>4.736257</td>\n",
       "      <td>0.712732</td>\n",
       "      <td>0.703808</td>\n",
       "    </tr>\n",
       "    <tr>\n",
       "      <th>min</th>\n",
       "      <td>0.000000</td>\n",
       "      <td>6.000000</td>\n",
       "      <td>19.870000</td>\n",
       "      <td>2.410000</td>\n",
       "      <td>47.700000</td>\n",
       "      <td>11.100000</td>\n",
       "      <td>19.400000</td>\n",
       "      <td>10.800000</td>\n",
       "      <td>2.300000</td>\n",
       "      <td>6.200000</td>\n",
       "      <td>10.300000</td>\n",
       "      <td>8.000000</td>\n",
       "      <td>25.000000</td>\n",
       "      <td>0.300000</td>\n",
       "      <td>0.000000</td>\n",
       "    </tr>\n",
       "    <tr>\n",
       "      <th>25%</th>\n",
       "      <td>72.000000</td>\n",
       "      <td>10.650000</td>\n",
       "      <td>33.110000</td>\n",
       "      <td>4.690000</td>\n",
       "      <td>65.400000</td>\n",
       "      <td>20.700000</td>\n",
       "      <td>31.200000</td>\n",
       "      <td>13.500000</td>\n",
       "      <td>7.375000</td>\n",
       "      <td>43.989189</td>\n",
       "      <td>36.135000</td>\n",
       "      <td>258.000000</td>\n",
       "      <td>84.864586</td>\n",
       "      <td>2.500000</td>\n",
       "      <td>0.300000</td>\n",
       "    </tr>\n",
       "    <tr>\n",
       "      <th>50%</th>\n",
       "      <td>143.000000</td>\n",
       "      <td>11.700000</td>\n",
       "      <td>35.876404</td>\n",
       "      <td>5.080000</td>\n",
       "      <td>70.500000</td>\n",
       "      <td>23.000000</td>\n",
       "      <td>32.300000</td>\n",
       "      <td>14.827660</td>\n",
       "      <td>8.900000</td>\n",
       "      <td>47.565000</td>\n",
       "      <td>41.537931</td>\n",
       "      <td>309.000000</td>\n",
       "      <td>86.523291</td>\n",
       "      <td>2.600000</td>\n",
       "      <td>0.537931</td>\n",
       "    </tr>\n",
       "    <tr>\n",
       "      <th>75%</th>\n",
       "      <td>217.500000</td>\n",
       "      <td>13.000000</td>\n",
       "      <td>38.900000</td>\n",
       "      <td>5.500000</td>\n",
       "      <td>80.450000</td>\n",
       "      <td>26.400000</td>\n",
       "      <td>33.400000</td>\n",
       "      <td>16.300000</td>\n",
       "      <td>10.450000</td>\n",
       "      <td>54.600000</td>\n",
       "      <td>45.527027</td>\n",
       "      <td>386.000000</td>\n",
       "      <td>87.331429</td>\n",
       "      <td>2.750000</td>\n",
       "      <td>0.769231</td>\n",
       "    </tr>\n",
       "    <tr>\n",
       "      <th>max</th>\n",
       "      <td>287.000000</td>\n",
       "      <td>16.700000</td>\n",
       "      <td>51.100000</td>\n",
       "      <td>7.470000</td>\n",
       "      <td>91.700000</td>\n",
       "      <td>35.600000</td>\n",
       "      <td>40.800000</td>\n",
       "      <td>28.800000</td>\n",
       "      <td>20900.000000</td>\n",
       "      <td>77.500000</td>\n",
       "      <td>87.000000</td>\n",
       "      <td>1107.000000</td>\n",
       "      <td>98.400000</td>\n",
       "      <td>5.800000</td>\n",
       "      <td>5.800000</td>\n",
       "    </tr>\n",
       "  </tbody>\n",
       "</table>\n",
       "</div>"
      ],
      "text/plain": [
       "               no          hb         pcv         rbc         mcv         mch  \\\n",
       "count  243.000000  243.000000  243.000000  242.000000  243.000000  241.000000   \n",
       "mean   143.514403   11.799712   36.109301    5.086123   72.251140   23.452697   \n",
       "std     83.962622    1.864599    4.979802    0.651812    9.785879    3.982755   \n",
       "min      0.000000    6.000000   19.870000    2.410000   47.700000   11.100000   \n",
       "25%     72.000000   10.650000   33.110000    4.690000   65.400000   20.700000   \n",
       "50%    143.000000   11.700000   35.876404    5.080000   70.500000   23.000000   \n",
       "75%    217.500000   13.000000   38.900000    5.500000   80.450000   26.400000   \n",
       "max    287.000000   16.700000   51.100000    7.470000   91.700000   35.600000   \n",
       "\n",
       "             mchc         rdw           wbc        neut       lymph  \\\n",
       "count  243.000000  243.000000    243.000000  243.000000  243.000000   \n",
       "mean    32.209671   15.208232    101.878340   46.986866   42.840218   \n",
       "std      2.123092    2.498933   1343.898711   12.194046   12.057044   \n",
       "min     19.400000   10.800000      2.300000    6.200000   10.300000   \n",
       "25%     31.200000   13.500000      7.375000   43.989189   36.135000   \n",
       "50%     32.300000   14.827660      8.900000   47.565000   41.537931   \n",
       "75%     33.400000   16.300000     10.450000   54.600000   45.527027   \n",
       "max     40.800000   28.800000  20900.000000   77.500000   87.000000   \n",
       "\n",
       "               plt         hba        hba2         hbf  \n",
       "count   243.000000  243.000000  243.000000  243.000000  \n",
       "mean    329.805780   86.098491    2.751195    0.664832  \n",
       "std     122.601262    4.736257    0.712732    0.703808  \n",
       "min       8.000000   25.000000    0.300000    0.000000  \n",
       "25%     258.000000   84.864586    2.500000    0.300000  \n",
       "50%     309.000000   86.523291    2.600000    0.537931  \n",
       "75%     386.000000   87.331429    2.750000    0.769231  \n",
       "max    1107.000000   98.400000    5.800000    5.800000  "
      ]
     },
     "execution_count": 3,
     "metadata": {},
     "output_type": "execute_result"
    }
   ],
   "source": [
    "thal.describe()"
   ]
  },
  {
   "cell_type": "code",
   "execution_count": 4,
   "metadata": {},
   "outputs": [
    {
     "data": {
      "text/html": [
       "<div>\n",
       "<style scoped>\n",
       "    .dataframe tbody tr th:only-of-type {\n",
       "        vertical-align: middle;\n",
       "    }\n",
       "\n",
       "    .dataframe tbody tr th {\n",
       "        vertical-align: top;\n",
       "    }\n",
       "\n",
       "    .dataframe thead th {\n",
       "        text-align: right;\n",
       "    }\n",
       "</style>\n",
       "<table border=\"1\" class=\"dataframe\">\n",
       "  <thead>\n",
       "    <tr style=\"text-align: right;\">\n",
       "      <th></th>\n",
       "      <th>Unnamed: 0</th>\n",
       "      <th>hb</th>\n",
       "      <th>pcv</th>\n",
       "      <th>rbc</th>\n",
       "      <th>mcv</th>\n",
       "      <th>mch</th>\n",
       "      <th>mchc</th>\n",
       "      <th>rdw</th>\n",
       "      <th>wbc</th>\n",
       "      <th>neut</th>\n",
       "      <th>lymph</th>\n",
       "      <th>plt</th>\n",
       "      <th>hba</th>\n",
       "      <th>hba2</th>\n",
       "      <th>hbf</th>\n",
       "    </tr>\n",
       "  </thead>\n",
       "  <tbody>\n",
       "    <tr>\n",
       "      <th>count</th>\n",
       "      <td>243.000000</td>\n",
       "      <td>243.000000</td>\n",
       "      <td>243.000000</td>\n",
       "      <td>242.000000</td>\n",
       "      <td>243.000000</td>\n",
       "      <td>242.000000</td>\n",
       "      <td>243.000000</td>\n",
       "      <td>243.000000</td>\n",
       "      <td>243.000000</td>\n",
       "      <td>243.000000</td>\n",
       "      <td>243.000000</td>\n",
       "      <td>243.000000</td>\n",
       "      <td>243.000000</td>\n",
       "      <td>243.000000</td>\n",
       "      <td>243.000000</td>\n",
       "    </tr>\n",
       "    <tr>\n",
       "      <th>mean</th>\n",
       "      <td>121.000000</td>\n",
       "      <td>11.799712</td>\n",
       "      <td>36.109301</td>\n",
       "      <td>5.086123</td>\n",
       "      <td>72.251140</td>\n",
       "      <td>23.446438</td>\n",
       "      <td>32.209671</td>\n",
       "      <td>15.208232</td>\n",
       "      <td>101.878340</td>\n",
       "      <td>46.986866</td>\n",
       "      <td>42.840218</td>\n",
       "      <td>329.805780</td>\n",
       "      <td>86.098491</td>\n",
       "      <td>2.751195</td>\n",
       "      <td>0.664832</td>\n",
       "    </tr>\n",
       "    <tr>\n",
       "      <th>std</th>\n",
       "      <td>70.292247</td>\n",
       "      <td>1.864599</td>\n",
       "      <td>4.979802</td>\n",
       "      <td>0.651812</td>\n",
       "      <td>9.785879</td>\n",
       "      <td>3.975676</td>\n",
       "      <td>2.123092</td>\n",
       "      <td>2.498933</td>\n",
       "      <td>1343.898711</td>\n",
       "      <td>12.194046</td>\n",
       "      <td>12.057044</td>\n",
       "      <td>122.601262</td>\n",
       "      <td>4.736257</td>\n",
       "      <td>0.712732</td>\n",
       "      <td>0.703808</td>\n",
       "    </tr>\n",
       "    <tr>\n",
       "      <th>min</th>\n",
       "      <td>0.000000</td>\n",
       "      <td>6.000000</td>\n",
       "      <td>19.870000</td>\n",
       "      <td>2.410000</td>\n",
       "      <td>47.700000</td>\n",
       "      <td>11.100000</td>\n",
       "      <td>19.400000</td>\n",
       "      <td>10.800000</td>\n",
       "      <td>2.300000</td>\n",
       "      <td>6.200000</td>\n",
       "      <td>10.300000</td>\n",
       "      <td>8.000000</td>\n",
       "      <td>25.000000</td>\n",
       "      <td>0.300000</td>\n",
       "      <td>0.000000</td>\n",
       "    </tr>\n",
       "    <tr>\n",
       "      <th>25%</th>\n",
       "      <td>60.500000</td>\n",
       "      <td>10.650000</td>\n",
       "      <td>33.110000</td>\n",
       "      <td>4.690000</td>\n",
       "      <td>65.400000</td>\n",
       "      <td>20.725000</td>\n",
       "      <td>31.200000</td>\n",
       "      <td>13.500000</td>\n",
       "      <td>7.375000</td>\n",
       "      <td>43.989189</td>\n",
       "      <td>36.135000</td>\n",
       "      <td>258.000000</td>\n",
       "      <td>84.864586</td>\n",
       "      <td>2.500000</td>\n",
       "      <td>0.300000</td>\n",
       "    </tr>\n",
       "    <tr>\n",
       "      <th>50%</th>\n",
       "      <td>121.000000</td>\n",
       "      <td>11.700000</td>\n",
       "      <td>35.876404</td>\n",
       "      <td>5.080000</td>\n",
       "      <td>70.500000</td>\n",
       "      <td>23.000000</td>\n",
       "      <td>32.300000</td>\n",
       "      <td>14.827660</td>\n",
       "      <td>8.900000</td>\n",
       "      <td>47.565000</td>\n",
       "      <td>41.537931</td>\n",
       "      <td>309.000000</td>\n",
       "      <td>86.523291</td>\n",
       "      <td>2.600000</td>\n",
       "      <td>0.537931</td>\n",
       "    </tr>\n",
       "    <tr>\n",
       "      <th>75%</th>\n",
       "      <td>181.500000</td>\n",
       "      <td>13.000000</td>\n",
       "      <td>38.900000</td>\n",
       "      <td>5.500000</td>\n",
       "      <td>80.450000</td>\n",
       "      <td>26.400000</td>\n",
       "      <td>33.400000</td>\n",
       "      <td>16.300000</td>\n",
       "      <td>10.450000</td>\n",
       "      <td>54.600000</td>\n",
       "      <td>45.527027</td>\n",
       "      <td>386.000000</td>\n",
       "      <td>87.331429</td>\n",
       "      <td>2.750000</td>\n",
       "      <td>0.769231</td>\n",
       "    </tr>\n",
       "    <tr>\n",
       "      <th>max</th>\n",
       "      <td>242.000000</td>\n",
       "      <td>16.700000</td>\n",
       "      <td>51.100000</td>\n",
       "      <td>7.470000</td>\n",
       "      <td>91.700000</td>\n",
       "      <td>35.600000</td>\n",
       "      <td>40.800000</td>\n",
       "      <td>28.800000</td>\n",
       "      <td>20900.000000</td>\n",
       "      <td>77.500000</td>\n",
       "      <td>87.000000</td>\n",
       "      <td>1107.000000</td>\n",
       "      <td>98.400000</td>\n",
       "      <td>5.800000</td>\n",
       "      <td>5.800000</td>\n",
       "    </tr>\n",
       "  </tbody>\n",
       "</table>\n",
       "</div>"
      ],
      "text/plain": [
       "       Unnamed: 0          hb         pcv         rbc         mcv         mch  \\\n",
       "count  243.000000  243.000000  243.000000  242.000000  243.000000  242.000000   \n",
       "mean   121.000000   11.799712   36.109301    5.086123   72.251140   23.446438   \n",
       "std     70.292247    1.864599    4.979802    0.651812    9.785879    3.975676   \n",
       "min      0.000000    6.000000   19.870000    2.410000   47.700000   11.100000   \n",
       "25%     60.500000   10.650000   33.110000    4.690000   65.400000   20.725000   \n",
       "50%    121.000000   11.700000   35.876404    5.080000   70.500000   23.000000   \n",
       "75%    181.500000   13.000000   38.900000    5.500000   80.450000   26.400000   \n",
       "max    242.000000   16.700000   51.100000    7.470000   91.700000   35.600000   \n",
       "\n",
       "             mchc         rdw           wbc        neut       lymph  \\\n",
       "count  243.000000  243.000000    243.000000  243.000000  243.000000   \n",
       "mean    32.209671   15.208232    101.878340   46.986866   42.840218   \n",
       "std      2.123092    2.498933   1343.898711   12.194046   12.057044   \n",
       "min     19.400000   10.800000      2.300000    6.200000   10.300000   \n",
       "25%     31.200000   13.500000      7.375000   43.989189   36.135000   \n",
       "50%     32.300000   14.827660      8.900000   47.565000   41.537931   \n",
       "75%     33.400000   16.300000     10.450000   54.600000   45.527027   \n",
       "max     40.800000   28.800000  20900.000000   77.500000   87.000000   \n",
       "\n",
       "               plt         hba        hba2         hbf  \n",
       "count   243.000000  243.000000  243.000000  243.000000  \n",
       "mean    329.805780   86.098491    2.751195    0.664832  \n",
       "std     122.601262    4.736257    0.712732    0.703808  \n",
       "min       8.000000   25.000000    0.300000    0.000000  \n",
       "25%     258.000000   84.864586    2.500000    0.300000  \n",
       "50%     309.000000   86.523291    2.600000    0.537931  \n",
       "75%     386.000000   87.331429    2.750000    0.769231  \n",
       "max    1107.000000   98.400000    5.800000    5.800000  "
      ]
     },
     "execution_count": 4,
     "metadata": {},
     "output_type": "execute_result"
    }
   ],
   "source": [
    "thal2.describe()"
   ]
  },
  {
   "cell_type": "code",
   "execution_count": 5,
   "metadata": {},
   "outputs": [],
   "source": [
    "thal.drop(columns='no', inplace=True)"
   ]
  },
  {
   "cell_type": "code",
   "execution_count": 6,
   "metadata": {},
   "outputs": [
    {
     "data": {
      "text/html": [
       "<div>\n",
       "<style scoped>\n",
       "    .dataframe tbody tr th:only-of-type {\n",
       "        vertical-align: middle;\n",
       "    }\n",
       "\n",
       "    .dataframe tbody tr th {\n",
       "        vertical-align: top;\n",
       "    }\n",
       "\n",
       "    .dataframe thead th {\n",
       "        text-align: right;\n",
       "    }\n",
       "</style>\n",
       "<table border=\"1\" class=\"dataframe\">\n",
       "  <thead>\n",
       "    <tr style=\"text-align: right;\">\n",
       "      <th></th>\n",
       "      <th>hb</th>\n",
       "      <th>pcv</th>\n",
       "      <th>rbc</th>\n",
       "      <th>mcv</th>\n",
       "      <th>mch</th>\n",
       "      <th>mchc</th>\n",
       "      <th>rdw</th>\n",
       "      <th>wbc</th>\n",
       "      <th>neut</th>\n",
       "      <th>lymph</th>\n",
       "      <th>plt</th>\n",
       "      <th>hba</th>\n",
       "      <th>hba2</th>\n",
       "      <th>hbf</th>\n",
       "    </tr>\n",
       "  </thead>\n",
       "  <tbody>\n",
       "    <tr>\n",
       "      <th>count</th>\n",
       "      <td>243.000000</td>\n",
       "      <td>243.000000</td>\n",
       "      <td>242.000000</td>\n",
       "      <td>243.000000</td>\n",
       "      <td>241.000000</td>\n",
       "      <td>243.000000</td>\n",
       "      <td>243.000000</td>\n",
       "      <td>243.000000</td>\n",
       "      <td>243.000000</td>\n",
       "      <td>243.000000</td>\n",
       "      <td>243.000000</td>\n",
       "      <td>243.000000</td>\n",
       "      <td>243.000000</td>\n",
       "      <td>243.000000</td>\n",
       "    </tr>\n",
       "    <tr>\n",
       "      <th>mean</th>\n",
       "      <td>11.799712</td>\n",
       "      <td>36.109301</td>\n",
       "      <td>5.086123</td>\n",
       "      <td>72.251140</td>\n",
       "      <td>23.452697</td>\n",
       "      <td>32.209671</td>\n",
       "      <td>15.208232</td>\n",
       "      <td>101.878340</td>\n",
       "      <td>46.986866</td>\n",
       "      <td>42.840218</td>\n",
       "      <td>329.805780</td>\n",
       "      <td>86.098491</td>\n",
       "      <td>2.751195</td>\n",
       "      <td>0.664832</td>\n",
       "    </tr>\n",
       "    <tr>\n",
       "      <th>std</th>\n",
       "      <td>1.864599</td>\n",
       "      <td>4.979802</td>\n",
       "      <td>0.651812</td>\n",
       "      <td>9.785879</td>\n",
       "      <td>3.982755</td>\n",
       "      <td>2.123092</td>\n",
       "      <td>2.498933</td>\n",
       "      <td>1343.898711</td>\n",
       "      <td>12.194046</td>\n",
       "      <td>12.057044</td>\n",
       "      <td>122.601262</td>\n",
       "      <td>4.736257</td>\n",
       "      <td>0.712732</td>\n",
       "      <td>0.703808</td>\n",
       "    </tr>\n",
       "    <tr>\n",
       "      <th>min</th>\n",
       "      <td>6.000000</td>\n",
       "      <td>19.870000</td>\n",
       "      <td>2.410000</td>\n",
       "      <td>47.700000</td>\n",
       "      <td>11.100000</td>\n",
       "      <td>19.400000</td>\n",
       "      <td>10.800000</td>\n",
       "      <td>2.300000</td>\n",
       "      <td>6.200000</td>\n",
       "      <td>10.300000</td>\n",
       "      <td>8.000000</td>\n",
       "      <td>25.000000</td>\n",
       "      <td>0.300000</td>\n",
       "      <td>0.000000</td>\n",
       "    </tr>\n",
       "    <tr>\n",
       "      <th>25%</th>\n",
       "      <td>10.650000</td>\n",
       "      <td>33.110000</td>\n",
       "      <td>4.690000</td>\n",
       "      <td>65.400000</td>\n",
       "      <td>20.700000</td>\n",
       "      <td>31.200000</td>\n",
       "      <td>13.500000</td>\n",
       "      <td>7.375000</td>\n",
       "      <td>43.989189</td>\n",
       "      <td>36.135000</td>\n",
       "      <td>258.000000</td>\n",
       "      <td>84.864586</td>\n",
       "      <td>2.500000</td>\n",
       "      <td>0.300000</td>\n",
       "    </tr>\n",
       "    <tr>\n",
       "      <th>50%</th>\n",
       "      <td>11.700000</td>\n",
       "      <td>35.876404</td>\n",
       "      <td>5.080000</td>\n",
       "      <td>70.500000</td>\n",
       "      <td>23.000000</td>\n",
       "      <td>32.300000</td>\n",
       "      <td>14.827660</td>\n",
       "      <td>8.900000</td>\n",
       "      <td>47.565000</td>\n",
       "      <td>41.537931</td>\n",
       "      <td>309.000000</td>\n",
       "      <td>86.523291</td>\n",
       "      <td>2.600000</td>\n",
       "      <td>0.537931</td>\n",
       "    </tr>\n",
       "    <tr>\n",
       "      <th>75%</th>\n",
       "      <td>13.000000</td>\n",
       "      <td>38.900000</td>\n",
       "      <td>5.500000</td>\n",
       "      <td>80.450000</td>\n",
       "      <td>26.400000</td>\n",
       "      <td>33.400000</td>\n",
       "      <td>16.300000</td>\n",
       "      <td>10.450000</td>\n",
       "      <td>54.600000</td>\n",
       "      <td>45.527027</td>\n",
       "      <td>386.000000</td>\n",
       "      <td>87.331429</td>\n",
       "      <td>2.750000</td>\n",
       "      <td>0.769231</td>\n",
       "    </tr>\n",
       "    <tr>\n",
       "      <th>max</th>\n",
       "      <td>16.700000</td>\n",
       "      <td>51.100000</td>\n",
       "      <td>7.470000</td>\n",
       "      <td>91.700000</td>\n",
       "      <td>35.600000</td>\n",
       "      <td>40.800000</td>\n",
       "      <td>28.800000</td>\n",
       "      <td>20900.000000</td>\n",
       "      <td>77.500000</td>\n",
       "      <td>87.000000</td>\n",
       "      <td>1107.000000</td>\n",
       "      <td>98.400000</td>\n",
       "      <td>5.800000</td>\n",
       "      <td>5.800000</td>\n",
       "    </tr>\n",
       "  </tbody>\n",
       "</table>\n",
       "</div>"
      ],
      "text/plain": [
       "               hb         pcv         rbc         mcv         mch        mchc  \\\n",
       "count  243.000000  243.000000  242.000000  243.000000  241.000000  243.000000   \n",
       "mean    11.799712   36.109301    5.086123   72.251140   23.452697   32.209671   \n",
       "std      1.864599    4.979802    0.651812    9.785879    3.982755    2.123092   \n",
       "min      6.000000   19.870000    2.410000   47.700000   11.100000   19.400000   \n",
       "25%     10.650000   33.110000    4.690000   65.400000   20.700000   31.200000   \n",
       "50%     11.700000   35.876404    5.080000   70.500000   23.000000   32.300000   \n",
       "75%     13.000000   38.900000    5.500000   80.450000   26.400000   33.400000   \n",
       "max     16.700000   51.100000    7.470000   91.700000   35.600000   40.800000   \n",
       "\n",
       "              rdw           wbc        neut       lymph          plt  \\\n",
       "count  243.000000    243.000000  243.000000  243.000000   243.000000   \n",
       "mean    15.208232    101.878340   46.986866   42.840218   329.805780   \n",
       "std      2.498933   1343.898711   12.194046   12.057044   122.601262   \n",
       "min     10.800000      2.300000    6.200000   10.300000     8.000000   \n",
       "25%     13.500000      7.375000   43.989189   36.135000   258.000000   \n",
       "50%     14.827660      8.900000   47.565000   41.537931   309.000000   \n",
       "75%     16.300000     10.450000   54.600000   45.527027   386.000000   \n",
       "max     28.800000  20900.000000   77.500000   87.000000  1107.000000   \n",
       "\n",
       "              hba        hba2         hbf  \n",
       "count  243.000000  243.000000  243.000000  \n",
       "mean    86.098491    2.751195    0.664832  \n",
       "std      4.736257    0.712732    0.703808  \n",
       "min     25.000000    0.300000    0.000000  \n",
       "25%     84.864586    2.500000    0.300000  \n",
       "50%     86.523291    2.600000    0.537931  \n",
       "75%     87.331429    2.750000    0.769231  \n",
       "max     98.400000    5.800000    5.800000  "
      ]
     },
     "execution_count": 6,
     "metadata": {},
     "output_type": "execute_result"
    }
   ],
   "source": [
    "thal.describe()"
   ]
  },
  {
   "cell_type": "code",
   "execution_count": 7,
   "metadata": {},
   "outputs": [],
   "source": [
    "thal.drop?"
   ]
  },
  {
   "cell_type": "code",
   "execution_count": 8,
   "metadata": {},
   "outputs": [
    {
     "name": "stdout",
     "output_type": "stream",
     "text": [
      "<class 'pandas.core.frame.DataFrame'>\n",
      "RangeIndex: 243 entries, 0 to 242\n",
      "Data columns (total 16 columns):\n",
      " #   Column     Non-Null Count  Dtype  \n",
      "---  ------     --------------  -----  \n",
      " 0   sex        243 non-null    object \n",
      " 1   hb         243 non-null    float64\n",
      " 2   pcv        243 non-null    float64\n",
      " 3   rbc        242 non-null    float64\n",
      " 4   mcv        243 non-null    float64\n",
      " 5   mch        241 non-null    float64\n",
      " 6   mchc       243 non-null    float64\n",
      " 7   rdw        243 non-null    float64\n",
      " 8   wbc        243 non-null    float64\n",
      " 9   neut       243 non-null    float64\n",
      " 10  lymph      243 non-null    float64\n",
      " 11  plt        243 non-null    float64\n",
      " 12  hba        243 non-null    float64\n",
      " 13  hba2       243 non-null    float64\n",
      " 14  hbf        243 non-null    float64\n",
      " 15  phenotype  243 non-null    object \n",
      "dtypes: float64(14), object(2)\n",
      "memory usage: 30.5+ KB\n"
     ]
    }
   ],
   "source": [
    "thal.info()"
   ]
  },
  {
   "cell_type": "code",
   "execution_count": 9,
   "metadata": {},
   "outputs": [
    {
     "data": {
      "text/html": [
       "<div>\n",
       "<style scoped>\n",
       "    .dataframe tbody tr th:only-of-type {\n",
       "        vertical-align: middle;\n",
       "    }\n",
       "\n",
       "    .dataframe tbody tr th {\n",
       "        vertical-align: top;\n",
       "    }\n",
       "\n",
       "    .dataframe thead th {\n",
       "        text-align: right;\n",
       "    }\n",
       "</style>\n",
       "<table border=\"1\" class=\"dataframe\">\n",
       "  <thead>\n",
       "    <tr style=\"text-align: right;\">\n",
       "      <th></th>\n",
       "      <th>sex</th>\n",
       "      <th>hb</th>\n",
       "      <th>pcv</th>\n",
       "      <th>rbc</th>\n",
       "      <th>mcv</th>\n",
       "      <th>mch</th>\n",
       "      <th>mchc</th>\n",
       "      <th>rdw</th>\n",
       "      <th>wbc</th>\n",
       "      <th>neut</th>\n",
       "      <th>lymph</th>\n",
       "      <th>plt</th>\n",
       "      <th>hba</th>\n",
       "      <th>hba2</th>\n",
       "      <th>hbf</th>\n",
       "      <th>phenotype</th>\n",
       "    </tr>\n",
       "  </thead>\n",
       "  <tbody>\n",
       "    <tr>\n",
       "      <th>0</th>\n",
       "      <td>female</td>\n",
       "      <td>10.8</td>\n",
       "      <td>35.2</td>\n",
       "      <td>5.12</td>\n",
       "      <td>68.7</td>\n",
       "      <td>21.2</td>\n",
       "      <td>30.8</td>\n",
       "      <td>13.4</td>\n",
       "      <td>9.6</td>\n",
       "      <td>53.000000</td>\n",
       "      <td>33.000000</td>\n",
       "      <td>309.0</td>\n",
       "      <td>88.500000</td>\n",
       "      <td>2.600000</td>\n",
       "      <td>0.110000</td>\n",
       "      <td>alpha trait</td>\n",
       "    </tr>\n",
       "    <tr>\n",
       "      <th>1</th>\n",
       "      <td>male</td>\n",
       "      <td>10.8</td>\n",
       "      <td>26.6</td>\n",
       "      <td>4.28</td>\n",
       "      <td>62.1</td>\n",
       "      <td>25.3</td>\n",
       "      <td>40.8</td>\n",
       "      <td>19.8</td>\n",
       "      <td>10.3</td>\n",
       "      <td>49.400000</td>\n",
       "      <td>43.100000</td>\n",
       "      <td>687.0</td>\n",
       "      <td>87.800000</td>\n",
       "      <td>2.400000</td>\n",
       "      <td>0.900000</td>\n",
       "      <td>alpha trait</td>\n",
       "    </tr>\n",
       "    <tr>\n",
       "      <th>2</th>\n",
       "      <td>female</td>\n",
       "      <td>10.8</td>\n",
       "      <td>35.2</td>\n",
       "      <td>5.12</td>\n",
       "      <td>68.7</td>\n",
       "      <td>21.2</td>\n",
       "      <td>30.8</td>\n",
       "      <td>13.4</td>\n",
       "      <td>9.6</td>\n",
       "      <td>53.000000</td>\n",
       "      <td>33.000000</td>\n",
       "      <td>309.0</td>\n",
       "      <td>88.500000</td>\n",
       "      <td>2.600000</td>\n",
       "      <td>0.100000</td>\n",
       "      <td>silent carrier</td>\n",
       "    </tr>\n",
       "    <tr>\n",
       "      <th>3</th>\n",
       "      <td>male</td>\n",
       "      <td>14.5</td>\n",
       "      <td>43.5</td>\n",
       "      <td>5.17</td>\n",
       "      <td>84.0</td>\n",
       "      <td>28.0</td>\n",
       "      <td>33.4</td>\n",
       "      <td>12.1</td>\n",
       "      <td>11.9</td>\n",
       "      <td>31.000000</td>\n",
       "      <td>50.000000</td>\n",
       "      <td>334.0</td>\n",
       "      <td>86.800000</td>\n",
       "      <td>2.800000</td>\n",
       "      <td>0.300000</td>\n",
       "      <td>silent carrier</td>\n",
       "    </tr>\n",
       "    <tr>\n",
       "      <th>4</th>\n",
       "      <td>male</td>\n",
       "      <td>11.5</td>\n",
       "      <td>34.4</td>\n",
       "      <td>5.02</td>\n",
       "      <td>68.7</td>\n",
       "      <td>22.9</td>\n",
       "      <td>33.4</td>\n",
       "      <td>15.7</td>\n",
       "      <td>20.4</td>\n",
       "      <td>67.000000</td>\n",
       "      <td>30.000000</td>\n",
       "      <td>596.0</td>\n",
       "      <td>86.300000</td>\n",
       "      <td>2.400000</td>\n",
       "      <td>1.300000</td>\n",
       "      <td>silent carrier</td>\n",
       "    </tr>\n",
       "    <tr>\n",
       "      <th>...</th>\n",
       "      <td>...</td>\n",
       "      <td>...</td>\n",
       "      <td>...</td>\n",
       "      <td>...</td>\n",
       "      <td>...</td>\n",
       "      <td>...</td>\n",
       "      <td>...</td>\n",
       "      <td>...</td>\n",
       "      <td>...</td>\n",
       "      <td>...</td>\n",
       "      <td>...</td>\n",
       "      <td>...</td>\n",
       "      <td>...</td>\n",
       "      <td>...</td>\n",
       "      <td>...</td>\n",
       "      <td>...</td>\n",
       "    </tr>\n",
       "    <tr>\n",
       "      <th>238</th>\n",
       "      <td>male</td>\n",
       "      <td>15.5</td>\n",
       "      <td>45.9</td>\n",
       "      <td>5.19</td>\n",
       "      <td>88.4</td>\n",
       "      <td>29.9</td>\n",
       "      <td>33.8</td>\n",
       "      <td>12.6</td>\n",
       "      <td>8.8</td>\n",
       "      <td>47.565000</td>\n",
       "      <td>40.975000</td>\n",
       "      <td>177.0</td>\n",
       "      <td>88.600000</td>\n",
       "      <td>3.200000</td>\n",
       "      <td>0.400000</td>\n",
       "      <td>normal</td>\n",
       "    </tr>\n",
       "    <tr>\n",
       "      <th>239</th>\n",
       "      <td>female</td>\n",
       "      <td>10.4</td>\n",
       "      <td>33.3</td>\n",
       "      <td>4.93</td>\n",
       "      <td>67.6</td>\n",
       "      <td>21.1</td>\n",
       "      <td>31.2</td>\n",
       "      <td>14.8</td>\n",
       "      <td>8.9</td>\n",
       "      <td>44.478378</td>\n",
       "      <td>45.527027</td>\n",
       "      <td>295.0</td>\n",
       "      <td>88.000000</td>\n",
       "      <td>2.400000</td>\n",
       "      <td>0.500000</td>\n",
       "      <td>silent carrier</td>\n",
       "    </tr>\n",
       "    <tr>\n",
       "      <th>240</th>\n",
       "      <td>male</td>\n",
       "      <td>9.8</td>\n",
       "      <td>29.8</td>\n",
       "      <td>4.75</td>\n",
       "      <td>62.7</td>\n",
       "      <td>19.0</td>\n",
       "      <td>30.4</td>\n",
       "      <td>14.7</td>\n",
       "      <td>7.2</td>\n",
       "      <td>48.234483</td>\n",
       "      <td>41.537931</td>\n",
       "      <td>262.0</td>\n",
       "      <td>85.100000</td>\n",
       "      <td>2.400000</td>\n",
       "      <td>1.100000</td>\n",
       "      <td>alpha trait</td>\n",
       "    </tr>\n",
       "    <tr>\n",
       "      <th>241</th>\n",
       "      <td>male</td>\n",
       "      <td>11.2</td>\n",
       "      <td>37.2</td>\n",
       "      <td>5.43</td>\n",
       "      <td>68.5</td>\n",
       "      <td>20.6</td>\n",
       "      <td>30.1</td>\n",
       "      <td>15.1</td>\n",
       "      <td>12.0</td>\n",
       "      <td>13.500000</td>\n",
       "      <td>76.800000</td>\n",
       "      <td>277.0</td>\n",
       "      <td>86.523291</td>\n",
       "      <td>2.588608</td>\n",
       "      <td>0.769231</td>\n",
       "      <td>silent carrier</td>\n",
       "    </tr>\n",
       "    <tr>\n",
       "      <th>242</th>\n",
       "      <td>male</td>\n",
       "      <td>14.4</td>\n",
       "      <td>44.5</td>\n",
       "      <td>5.70</td>\n",
       "      <td>78.0</td>\n",
       "      <td>25.3</td>\n",
       "      <td>31.2</td>\n",
       "      <td>15.0</td>\n",
       "      <td>7.2</td>\n",
       "      <td>36.000000</td>\n",
       "      <td>59.000000</td>\n",
       "      <td>224.0</td>\n",
       "      <td>86.523291</td>\n",
       "      <td>2.588608</td>\n",
       "      <td>0.769231</td>\n",
       "      <td>silent carrier</td>\n",
       "    </tr>\n",
       "  </tbody>\n",
       "</table>\n",
       "<p>243 rows × 16 columns</p>\n",
       "</div>"
      ],
      "text/plain": [
       "        sex    hb   pcv   rbc   mcv   mch  mchc   rdw   wbc       neut  \\\n",
       "0    female  10.8  35.2  5.12  68.7  21.2  30.8  13.4   9.6  53.000000   \n",
       "1      male  10.8  26.6  4.28  62.1  25.3  40.8  19.8  10.3  49.400000   \n",
       "2    female  10.8  35.2  5.12  68.7  21.2  30.8  13.4   9.6  53.000000   \n",
       "3      male  14.5  43.5  5.17  84.0  28.0  33.4  12.1  11.9  31.000000   \n",
       "4      male  11.5  34.4  5.02  68.7  22.9  33.4  15.7  20.4  67.000000   \n",
       "..      ...   ...   ...   ...   ...   ...   ...   ...   ...        ...   \n",
       "238    male  15.5  45.9  5.19  88.4  29.9  33.8  12.6   8.8  47.565000   \n",
       "239  female  10.4  33.3  4.93  67.6  21.1  31.2  14.8   8.9  44.478378   \n",
       "240    male   9.8  29.8  4.75  62.7  19.0  30.4  14.7   7.2  48.234483   \n",
       "241    male  11.2  37.2  5.43  68.5  20.6  30.1  15.1  12.0  13.500000   \n",
       "242    male  14.4  44.5  5.70  78.0  25.3  31.2  15.0   7.2  36.000000   \n",
       "\n",
       "         lymph    plt        hba      hba2       hbf       phenotype  \n",
       "0    33.000000  309.0  88.500000  2.600000  0.110000     alpha trait  \n",
       "1    43.100000  687.0  87.800000  2.400000  0.900000     alpha trait  \n",
       "2    33.000000  309.0  88.500000  2.600000  0.100000  silent carrier  \n",
       "3    50.000000  334.0  86.800000  2.800000  0.300000  silent carrier  \n",
       "4    30.000000  596.0  86.300000  2.400000  1.300000  silent carrier  \n",
       "..         ...    ...        ...       ...       ...             ...  \n",
       "238  40.975000  177.0  88.600000  3.200000  0.400000          normal  \n",
       "239  45.527027  295.0  88.000000  2.400000  0.500000  silent carrier  \n",
       "240  41.537931  262.0  85.100000  2.400000  1.100000     alpha trait  \n",
       "241  76.800000  277.0  86.523291  2.588608  0.769231  silent carrier  \n",
       "242  59.000000  224.0  86.523291  2.588608  0.769231  silent carrier  \n",
       "\n",
       "[243 rows x 16 columns]"
      ]
     },
     "execution_count": 9,
     "metadata": {},
     "output_type": "execute_result"
    }
   ],
   "source": [
    "thal.astype({'phenotype' : 'category', 'sex' : 'category'})"
   ]
  },
  {
   "cell_type": "code",
   "execution_count": 10,
   "metadata": {},
   "outputs": [],
   "source": [
    "thal['rbc'] = thal['rbc'].fillna(thal.groupby('phenotype')['rbc'].transform('mean'))\n",
    "thal['mch'] = thal['mch'].fillna(thal.groupby('phenotype')['mch'].transform('mean'))"
   ]
  },
  {
   "cell_type": "code",
   "execution_count": 11,
   "metadata": {},
   "outputs": [
    {
     "name": "stdout",
     "output_type": "stream",
     "text": [
      "<class 'pandas.core.frame.DataFrame'>\n",
      "RangeIndex: 243 entries, 0 to 242\n",
      "Data columns (total 16 columns):\n",
      " #   Column     Non-Null Count  Dtype  \n",
      "---  ------     --------------  -----  \n",
      " 0   sex        243 non-null    object \n",
      " 1   hb         243 non-null    float64\n",
      " 2   pcv        243 non-null    float64\n",
      " 3   rbc        243 non-null    float64\n",
      " 4   mcv        243 non-null    float64\n",
      " 5   mch        243 non-null    float64\n",
      " 6   mchc       243 non-null    float64\n",
      " 7   rdw        243 non-null    float64\n",
      " 8   wbc        243 non-null    float64\n",
      " 9   neut       243 non-null    float64\n",
      " 10  lymph      243 non-null    float64\n",
      " 11  plt        243 non-null    float64\n",
      " 12  hba        243 non-null    float64\n",
      " 13  hba2       243 non-null    float64\n",
      " 14  hbf        243 non-null    float64\n",
      " 15  phenotype  243 non-null    object \n",
      "dtypes: float64(14), object(2)\n",
      "memory usage: 30.5+ KB\n"
     ]
    }
   ],
   "source": [
    "thal.info()"
   ]
  },
  {
   "cell_type": "code",
   "execution_count": 12,
   "metadata": {},
   "outputs": [],
   "source": [
    "thal = thal.astype({\"phenotype\" : \"category\", \"sex\" : \"category\"})"
   ]
  },
  {
   "cell_type": "code",
   "execution_count": 13,
   "metadata": {},
   "outputs": [
    {
     "name": "stdout",
     "output_type": "stream",
     "text": [
      "<class 'pandas.core.frame.DataFrame'>\n",
      "RangeIndex: 243 entries, 0 to 242\n",
      "Data columns (total 16 columns):\n",
      " #   Column     Non-Null Count  Dtype   \n",
      "---  ------     --------------  -----   \n",
      " 0   sex        243 non-null    category\n",
      " 1   hb         243 non-null    float64 \n",
      " 2   pcv        243 non-null    float64 \n",
      " 3   rbc        243 non-null    float64 \n",
      " 4   mcv        243 non-null    float64 \n",
      " 5   mch        243 non-null    float64 \n",
      " 6   mchc       243 non-null    float64 \n",
      " 7   rdw        243 non-null    float64 \n",
      " 8   wbc        243 non-null    float64 \n",
      " 9   neut       243 non-null    float64 \n",
      " 10  lymph      243 non-null    float64 \n",
      " 11  plt        243 non-null    float64 \n",
      " 12  hba        243 non-null    float64 \n",
      " 13  hba2       243 non-null    float64 \n",
      " 14  hbf        243 non-null    float64 \n",
      " 15  phenotype  243 non-null    category\n",
      "dtypes: category(2), float64(14)\n",
      "memory usage: 27.5 KB\n"
     ]
    }
   ],
   "source": [
    "thal.info()"
   ]
  },
  {
   "cell_type": "markdown",
   "metadata": {},
   "source": [
    "- 243 out 288 was obtained - after removing elements where there was no diagnosis. "
   ]
  },
  {
   "cell_type": "code",
   "execution_count": 14,
   "metadata": {},
   "outputs": [
    {
     "data": {
      "text/plain": [
       "0      female\n",
       "1        male\n",
       "2      female\n",
       "3        male\n",
       "4        male\n",
       "        ...  \n",
       "238      male\n",
       "239    female\n",
       "240      male\n",
       "241      male\n",
       "242      male\n",
       "Name: sex, Length: 243, dtype: category\n",
       "Categories (2, object): ['female', 'male']"
      ]
     },
     "execution_count": 14,
     "metadata": {},
     "output_type": "execute_result"
    }
   ],
   "source": [
    "thal.sex"
   ]
  },
  {
   "cell_type": "code",
   "execution_count": 15,
   "metadata": {},
   "outputs": [
    {
     "ename": "KeyError",
     "evalue": "False",
     "output_type": "error",
     "traceback": [
      "\u001b[1;31m---------------------------------------------------------------------------\u001b[0m",
      "\u001b[1;31mKeyError\u001b[0m                                  Traceback (most recent call last)",
      "\u001b[1;32m<ipython-input-15-f64bf44e4e9a>\u001b[0m in \u001b[0;36m<module>\u001b[1;34m\u001b[0m\n\u001b[0;32m      1\u001b[0m \u001b[1;31m#calculating the male percentage\u001b[0m\u001b[1;33m\u001b[0m\u001b[1;33m\u001b[0m\u001b[1;33m\u001b[0m\u001b[0m\n\u001b[1;32m----> 2\u001b[1;33m \u001b[0mthal\u001b[0m\u001b[1;33m.\u001b[0m\u001b[0mloc\u001b[0m\u001b[1;33m[\u001b[0m\u001b[1;34m'sex'\u001b[0m \u001b[1;33m==\u001b[0m \u001b[1;34m'male'\u001b[0m\u001b[1;33m]\u001b[0m \u001b[1;31m#this is WRONG\u001b[0m\u001b[1;33m\u001b[0m\u001b[1;33m\u001b[0m\u001b[0m\n\u001b[0m",
      "\u001b[1;32m~\\Anaconda3\\lib\\site-packages\\pandas\\core\\indexing.py\u001b[0m in \u001b[0;36m__getitem__\u001b[1;34m(self, key)\u001b[0m\n\u001b[0;32m    893\u001b[0m \u001b[1;33m\u001b[0m\u001b[0m\n\u001b[0;32m    894\u001b[0m             \u001b[0mmaybe_callable\u001b[0m \u001b[1;33m=\u001b[0m \u001b[0mcom\u001b[0m\u001b[1;33m.\u001b[0m\u001b[0mapply_if_callable\u001b[0m\u001b[1;33m(\u001b[0m\u001b[0mkey\u001b[0m\u001b[1;33m,\u001b[0m \u001b[0mself\u001b[0m\u001b[1;33m.\u001b[0m\u001b[0mobj\u001b[0m\u001b[1;33m)\u001b[0m\u001b[1;33m\u001b[0m\u001b[1;33m\u001b[0m\u001b[0m\n\u001b[1;32m--> 895\u001b[1;33m             \u001b[1;32mreturn\u001b[0m \u001b[0mself\u001b[0m\u001b[1;33m.\u001b[0m\u001b[0m_getitem_axis\u001b[0m\u001b[1;33m(\u001b[0m\u001b[0mmaybe_callable\u001b[0m\u001b[1;33m,\u001b[0m \u001b[0maxis\u001b[0m\u001b[1;33m=\u001b[0m\u001b[0maxis\u001b[0m\u001b[1;33m)\u001b[0m\u001b[1;33m\u001b[0m\u001b[1;33m\u001b[0m\u001b[0m\n\u001b[0m\u001b[0;32m    896\u001b[0m \u001b[1;33m\u001b[0m\u001b[0m\n\u001b[0;32m    897\u001b[0m     \u001b[1;32mdef\u001b[0m \u001b[0m_is_scalar_access\u001b[0m\u001b[1;33m(\u001b[0m\u001b[0mself\u001b[0m\u001b[1;33m,\u001b[0m \u001b[0mkey\u001b[0m\u001b[1;33m:\u001b[0m \u001b[0mTuple\u001b[0m\u001b[1;33m)\u001b[0m\u001b[1;33m:\u001b[0m\u001b[1;33m\u001b[0m\u001b[1;33m\u001b[0m\u001b[0m\n",
      "\u001b[1;32m~\\Anaconda3\\lib\\site-packages\\pandas\\core\\indexing.py\u001b[0m in \u001b[0;36m_getitem_axis\u001b[1;34m(self, key, axis)\u001b[0m\n\u001b[0;32m   1122\u001b[0m         \u001b[1;31m# fall thru to straight lookup\u001b[0m\u001b[1;33m\u001b[0m\u001b[1;33m\u001b[0m\u001b[1;33m\u001b[0m\u001b[0m\n\u001b[0;32m   1123\u001b[0m         \u001b[0mself\u001b[0m\u001b[1;33m.\u001b[0m\u001b[0m_validate_key\u001b[0m\u001b[1;33m(\u001b[0m\u001b[0mkey\u001b[0m\u001b[1;33m,\u001b[0m \u001b[0maxis\u001b[0m\u001b[1;33m)\u001b[0m\u001b[1;33m\u001b[0m\u001b[1;33m\u001b[0m\u001b[0m\n\u001b[1;32m-> 1124\u001b[1;33m         \u001b[1;32mreturn\u001b[0m \u001b[0mself\u001b[0m\u001b[1;33m.\u001b[0m\u001b[0m_get_label\u001b[0m\u001b[1;33m(\u001b[0m\u001b[0mkey\u001b[0m\u001b[1;33m,\u001b[0m \u001b[0maxis\u001b[0m\u001b[1;33m=\u001b[0m\u001b[0maxis\u001b[0m\u001b[1;33m)\u001b[0m\u001b[1;33m\u001b[0m\u001b[1;33m\u001b[0m\u001b[0m\n\u001b[0m\u001b[0;32m   1125\u001b[0m \u001b[1;33m\u001b[0m\u001b[0m\n\u001b[0;32m   1126\u001b[0m     \u001b[1;32mdef\u001b[0m \u001b[0m_get_slice_axis\u001b[0m\u001b[1;33m(\u001b[0m\u001b[0mself\u001b[0m\u001b[1;33m,\u001b[0m \u001b[0mslice_obj\u001b[0m\u001b[1;33m:\u001b[0m \u001b[0mslice\u001b[0m\u001b[1;33m,\u001b[0m \u001b[0maxis\u001b[0m\u001b[1;33m:\u001b[0m \u001b[0mint\u001b[0m\u001b[1;33m)\u001b[0m\u001b[1;33m:\u001b[0m\u001b[1;33m\u001b[0m\u001b[1;33m\u001b[0m\u001b[0m\n",
      "\u001b[1;32m~\\Anaconda3\\lib\\site-packages\\pandas\\core\\indexing.py\u001b[0m in \u001b[0;36m_get_label\u001b[1;34m(self, label, axis)\u001b[0m\n\u001b[0;32m   1071\u001b[0m     \u001b[1;32mdef\u001b[0m \u001b[0m_get_label\u001b[0m\u001b[1;33m(\u001b[0m\u001b[0mself\u001b[0m\u001b[1;33m,\u001b[0m \u001b[0mlabel\u001b[0m\u001b[1;33m,\u001b[0m \u001b[0maxis\u001b[0m\u001b[1;33m:\u001b[0m \u001b[0mint\u001b[0m\u001b[1;33m)\u001b[0m\u001b[1;33m:\u001b[0m\u001b[1;33m\u001b[0m\u001b[1;33m\u001b[0m\u001b[0m\n\u001b[0;32m   1072\u001b[0m         \u001b[1;31m# GH#5667 this will fail if the label is not present in the axis.\u001b[0m\u001b[1;33m\u001b[0m\u001b[1;33m\u001b[0m\u001b[1;33m\u001b[0m\u001b[0m\n\u001b[1;32m-> 1073\u001b[1;33m         \u001b[1;32mreturn\u001b[0m \u001b[0mself\u001b[0m\u001b[1;33m.\u001b[0m\u001b[0mobj\u001b[0m\u001b[1;33m.\u001b[0m\u001b[0mxs\u001b[0m\u001b[1;33m(\u001b[0m\u001b[0mlabel\u001b[0m\u001b[1;33m,\u001b[0m \u001b[0maxis\u001b[0m\u001b[1;33m=\u001b[0m\u001b[0maxis\u001b[0m\u001b[1;33m)\u001b[0m\u001b[1;33m\u001b[0m\u001b[1;33m\u001b[0m\u001b[0m\n\u001b[0m\u001b[0;32m   1074\u001b[0m \u001b[1;33m\u001b[0m\u001b[0m\n\u001b[0;32m   1075\u001b[0m     \u001b[1;32mdef\u001b[0m \u001b[0m_handle_lowerdim_multi_index_axis0\u001b[0m\u001b[1;33m(\u001b[0m\u001b[0mself\u001b[0m\u001b[1;33m,\u001b[0m \u001b[0mtup\u001b[0m\u001b[1;33m:\u001b[0m \u001b[0mTuple\u001b[0m\u001b[1;33m)\u001b[0m\u001b[1;33m:\u001b[0m\u001b[1;33m\u001b[0m\u001b[1;33m\u001b[0m\u001b[0m\n",
      "\u001b[1;32m~\\Anaconda3\\lib\\site-packages\\pandas\\core\\generic.py\u001b[0m in \u001b[0;36mxs\u001b[1;34m(self, key, axis, level, drop_level)\u001b[0m\n\u001b[0;32m   3737\u001b[0m                 \u001b[1;32mraise\u001b[0m \u001b[0mTypeError\u001b[0m\u001b[1;33m(\u001b[0m\u001b[1;34mf\"Expected label or tuple of labels, got {key}\"\u001b[0m\u001b[1;33m)\u001b[0m \u001b[1;32mfrom\u001b[0m \u001b[0me\u001b[0m\u001b[1;33m\u001b[0m\u001b[1;33m\u001b[0m\u001b[0m\n\u001b[0;32m   3738\u001b[0m         \u001b[1;32melse\u001b[0m\u001b[1;33m:\u001b[0m\u001b[1;33m\u001b[0m\u001b[1;33m\u001b[0m\u001b[0m\n\u001b[1;32m-> 3739\u001b[1;33m             \u001b[0mloc\u001b[0m \u001b[1;33m=\u001b[0m \u001b[0mindex\u001b[0m\u001b[1;33m.\u001b[0m\u001b[0mget_loc\u001b[0m\u001b[1;33m(\u001b[0m\u001b[0mkey\u001b[0m\u001b[1;33m)\u001b[0m\u001b[1;33m\u001b[0m\u001b[1;33m\u001b[0m\u001b[0m\n\u001b[0m\u001b[0;32m   3740\u001b[0m \u001b[1;33m\u001b[0m\u001b[0m\n\u001b[0;32m   3741\u001b[0m             \u001b[1;32mif\u001b[0m \u001b[0misinstance\u001b[0m\u001b[1;33m(\u001b[0m\u001b[0mloc\u001b[0m\u001b[1;33m,\u001b[0m \u001b[0mnp\u001b[0m\u001b[1;33m.\u001b[0m\u001b[0mndarray\u001b[0m\u001b[1;33m)\u001b[0m\u001b[1;33m:\u001b[0m\u001b[1;33m\u001b[0m\u001b[1;33m\u001b[0m\u001b[0m\n",
      "\u001b[1;32m~\\Anaconda3\\lib\\site-packages\\pandas\\core\\indexes\\range.py\u001b[0m in \u001b[0;36mget_loc\u001b[1;34m(self, key, method, tolerance)\u001b[0m\n\u001b[0;32m    352\u001b[0m                 \u001b[1;32mexcept\u001b[0m \u001b[0mValueError\u001b[0m \u001b[1;32mas\u001b[0m \u001b[0merr\u001b[0m\u001b[1;33m:\u001b[0m\u001b[1;33m\u001b[0m\u001b[1;33m\u001b[0m\u001b[0m\n\u001b[0;32m    353\u001b[0m                     \u001b[1;32mraise\u001b[0m \u001b[0mKeyError\u001b[0m\u001b[1;33m(\u001b[0m\u001b[0mkey\u001b[0m\u001b[1;33m)\u001b[0m \u001b[1;32mfrom\u001b[0m \u001b[0merr\u001b[0m\u001b[1;33m\u001b[0m\u001b[1;33m\u001b[0m\u001b[0m\n\u001b[1;32m--> 354\u001b[1;33m             \u001b[1;32mraise\u001b[0m \u001b[0mKeyError\u001b[0m\u001b[1;33m(\u001b[0m\u001b[0mkey\u001b[0m\u001b[1;33m)\u001b[0m\u001b[1;33m\u001b[0m\u001b[1;33m\u001b[0m\u001b[0m\n\u001b[0m\u001b[0;32m    355\u001b[0m         \u001b[1;32mreturn\u001b[0m \u001b[0msuper\u001b[0m\u001b[1;33m(\u001b[0m\u001b[1;33m)\u001b[0m\u001b[1;33m.\u001b[0m\u001b[0mget_loc\u001b[0m\u001b[1;33m(\u001b[0m\u001b[0mkey\u001b[0m\u001b[1;33m,\u001b[0m \u001b[0mmethod\u001b[0m\u001b[1;33m=\u001b[0m\u001b[0mmethod\u001b[0m\u001b[1;33m,\u001b[0m \u001b[0mtolerance\u001b[0m\u001b[1;33m=\u001b[0m\u001b[0mtolerance\u001b[0m\u001b[1;33m)\u001b[0m\u001b[1;33m\u001b[0m\u001b[1;33m\u001b[0m\u001b[0m\n\u001b[0;32m    356\u001b[0m \u001b[1;33m\u001b[0m\u001b[0m\n",
      "\u001b[1;31mKeyError\u001b[0m: False"
     ]
    }
   ],
   "source": [
    "#calculating the male percentage\n",
    "thal.loc['sex' == 'male'] #this is WRONG"
   ]
  },
  {
   "cell_type": "markdown",
   "metadata": {},
   "source": [
    "SEE THIS LINK TO KNOW WHY ABOVE IS WRONG - https://pandas.pydata.org/docs/getting_started/intro_tutorials/03_subset_data.html"
   ]
  },
  {
   "cell_type": "code",
   "execution_count": 16,
   "metadata": {},
   "outputs": [
    {
     "data": {
      "text/plain": [
       "45.67901234567901"
      ]
     },
     "execution_count": 16,
     "metadata": {},
     "output_type": "execute_result"
    }
   ],
   "source": [
    "female_pct = (thal['sex'] == 'female').mean()*100\n",
    "female_pct"
   ]
  },
  {
   "cell_type": "code",
   "execution_count": 17,
   "metadata": {},
   "outputs": [
    {
     "ename": "AttributeError",
     "evalue": "'DataFrame' object has no attribute 'age'",
     "output_type": "error",
     "traceback": [
      "\u001b[1;31m---------------------------------------------------------------------------\u001b[0m",
      "\u001b[1;31mAttributeError\u001b[0m                            Traceback (most recent call last)",
      "\u001b[1;32m<ipython-input-17-9ca328a0bd78>\u001b[0m in \u001b[0;36m<module>\u001b[1;34m\u001b[0m\n\u001b[1;32m----> 1\u001b[1;33m \u001b[0mthal\u001b[0m\u001b[1;33m.\u001b[0m\u001b[0mage\u001b[0m\u001b[1;33m.\u001b[0m\u001b[0mmean\u001b[0m\u001b[1;33m(\u001b[0m\u001b[1;33m)\u001b[0m\u001b[1;33m\u001b[0m\u001b[1;33m\u001b[0m\u001b[0m\n\u001b[0m",
      "\u001b[1;32m~\\Anaconda3\\lib\\site-packages\\pandas\\core\\generic.py\u001b[0m in \u001b[0;36m__getattr__\u001b[1;34m(self, name)\u001b[0m\n\u001b[0;32m   5463\u001b[0m             \u001b[1;32mif\u001b[0m \u001b[0mself\u001b[0m\u001b[1;33m.\u001b[0m\u001b[0m_info_axis\u001b[0m\u001b[1;33m.\u001b[0m\u001b[0m_can_hold_identifiers_and_holds_name\u001b[0m\u001b[1;33m(\u001b[0m\u001b[0mname\u001b[0m\u001b[1;33m)\u001b[0m\u001b[1;33m:\u001b[0m\u001b[1;33m\u001b[0m\u001b[1;33m\u001b[0m\u001b[0m\n\u001b[0;32m   5464\u001b[0m                 \u001b[1;32mreturn\u001b[0m \u001b[0mself\u001b[0m\u001b[1;33m[\u001b[0m\u001b[0mname\u001b[0m\u001b[1;33m]\u001b[0m\u001b[1;33m\u001b[0m\u001b[1;33m\u001b[0m\u001b[0m\n\u001b[1;32m-> 5465\u001b[1;33m             \u001b[1;32mreturn\u001b[0m \u001b[0mobject\u001b[0m\u001b[1;33m.\u001b[0m\u001b[0m__getattribute__\u001b[0m\u001b[1;33m(\u001b[0m\u001b[0mself\u001b[0m\u001b[1;33m,\u001b[0m \u001b[0mname\u001b[0m\u001b[1;33m)\u001b[0m\u001b[1;33m\u001b[0m\u001b[1;33m\u001b[0m\u001b[0m\n\u001b[0m\u001b[0;32m   5466\u001b[0m \u001b[1;33m\u001b[0m\u001b[0m\n\u001b[0;32m   5467\u001b[0m     \u001b[1;32mdef\u001b[0m \u001b[0m__setattr__\u001b[0m\u001b[1;33m(\u001b[0m\u001b[0mself\u001b[0m\u001b[1;33m,\u001b[0m \u001b[0mname\u001b[0m\u001b[1;33m:\u001b[0m \u001b[0mstr\u001b[0m\u001b[1;33m,\u001b[0m \u001b[0mvalue\u001b[0m\u001b[1;33m)\u001b[0m \u001b[1;33m->\u001b[0m \u001b[1;32mNone\u001b[0m\u001b[1;33m:\u001b[0m\u001b[1;33m\u001b[0m\u001b[1;33m\u001b[0m\u001b[0m\n",
      "\u001b[1;31mAttributeError\u001b[0m: 'DataFrame' object has no attribute 'age'"
     ]
    }
   ],
   "source": [
    "thal.age.mean()"
   ]
  },
  {
   "cell_type": "code",
   "execution_count": 18,
   "metadata": {},
   "outputs": [
    {
     "data": {
      "text/plain": [
       "['alpha trait', 'silent carrier', 'normal', 'iron deficiency', 'beta trait']"
      ]
     },
     "execution_count": 18,
     "metadata": {},
     "output_type": "execute_result"
    }
   ],
   "source": [
    "d_list = list(thal.phenotype.unique())\n",
    "d_list"
   ]
  },
  {
   "cell_type": "code",
   "execution_count": 19,
   "metadata": {},
   "outputs": [
    {
     "data": {
      "text/plain": [
       "silent carrier     105\n",
       "normal              58\n",
       "alpha trait         42\n",
       "iron deficiency     21\n",
       "beta trait          17\n",
       "Name: phenotype, dtype: int64"
      ]
     },
     "execution_count": 19,
     "metadata": {},
     "output_type": "execute_result"
    }
   ],
   "source": [
    "thal.phenotype.value_counts()"
   ]
  },
  {
   "cell_type": "code",
   "execution_count": 20,
   "metadata": {},
   "outputs": [
    {
     "data": {
      "text/plain": [
       "<matplotlib.legend.Legend at 0x28169e47488>"
      ]
     },
     "execution_count": 20,
     "metadata": {},
     "output_type": "execute_result"
    },
    {
     "data": {
      "image/png": "[encoded data removed]",
      "text/plain": [
       "<Figure size 432x288 with 1 Axes>"
      ]
     },
     "metadata": {},
     "output_type": "display_data"
    }
   ],
   "source": [
    "plt.style.use('ggplot')\n",
    "plt.rcParams['font.size'] = '18'\n",
    "plt.pie(thal.phenotype.value_counts(),counterclock=False, startangle=90, autopct = '%.2f%%')\n",
    "#plt.figure(figsize=(16, 10))from pylab import rcParams\n",
    "from pylab import rcParams\n",
    "rcParams['figure.figsize'] = 16,10\n",
    "plt.legend(labels=['Alpha trait', 'Silent carrier', 'Normal', 'Iron deficiency', 'Beta trait'])"
   ]
  },
  {
   "cell_type": "code",
   "execution_count": 26,
   "metadata": {},
   "outputs": [
    {
     "data": {
      "text/plain": [
       "<matplotlib.legend.Legend at 0x2816a097148>"
      ]
     },
     "execution_count": 26,
     "metadata": {},
     "output_type": "execute_result"
    },
    {
     "data": {
      "image/png": "[encoded data removed]",
      "text/plain": [
       "<Figure size 1152x720 with 1 Axes>"
      ]
     },
     "metadata": {},
     "output_type": "display_data"
    }
   ],
   "source": [
    "plt.style.use('ggplot')\n",
    "plt.rcParams['font.size'] = '18'\n",
    "plt.pie(alphanorm.phenotype.value_counts(),counterclock=False, startangle=90, autopct = '%.2f%%')\n",
    "#plt.figure(figsize=(16, 10))from pylab import rcParams\n",
    "from pylab import rcParams\n",
    "rcParams['figure.figsize'] = 16,10\n",
    "plt.legend(labels=['Alpha-thalassemia carriers', 'Normal'])"
   ]
  },
  {
   "cell_type": "code",
   "execution_count": 27,
   "metadata": {},
   "outputs": [
    {
     "data": {
      "text/plain": [
       "44.827586206896555"
      ]
     },
     "execution_count": 27,
     "metadata": {},
     "output_type": "execute_result"
    }
   ],
   "source": [
    "female_pct = (alphanorm['sex'] == 'female').mean()*100\n",
    "female_pct"
   ]
  },
  {
   "cell_type": "markdown",
   "metadata": {},
   "source": [
    "Final dataset, after removing samples without a specific diagnosis, consisted of 243 samples. Basic demographics are depicted in the Figure 1. Males represented just over half of the dataset, and the mean age was...... "
   ]
  },
  {
   "cell_type": "markdown",
   "metadata": {},
   "source": [
    "## Model 01 Analysis - AlphaThal vs Normal"
   ]
  },
  {
   "cell_type": "code",
   "execution_count": 14,
   "metadata": {},
   "outputs": [],
   "source": [
    "#comparing distributions for key input variables"
   ]
  },
  {
   "cell_type": "code",
   "execution_count": 2,
   "metadata": {},
   "outputs": [],
   "source": [
    "alphanorm = pd.read_csv('alphanorm.csv', index_col = False)"
   ]
  },
  {
   "cell_type": "code",
   "execution_count": 3,
   "metadata": {},
   "outputs": [
    {
     "name": "stdout",
     "output_type": "stream",
     "text": [
      "<class 'pandas.core.frame.DataFrame'>\n",
      "RangeIndex: 203 entries, 0 to 202\n",
      "Data columns (total 16 columns):\n",
      " #   Column     Non-Null Count  Dtype  \n",
      "---  ------     --------------  -----  \n",
      " 0   sex        203 non-null    object \n",
      " 1   hb         203 non-null    float64\n",
      " 2   pcv        203 non-null    float64\n",
      " 3   rbc        202 non-null    float64\n",
      " 4   mcv        203 non-null    float64\n",
      " 5   mch        201 non-null    float64\n",
      " 6   mchc       203 non-null    float64\n",
      " 7   rdw        203 non-null    float64\n",
      " 8   wbc        203 non-null    float64\n",
      " 9   neut       203 non-null    float64\n",
      " 10  lymph      203 non-null    float64\n",
      " 11  plt        203 non-null    float64\n",
      " 12  hba        203 non-null    float64\n",
      " 13  hba2       203 non-null    float64\n",
      " 14  hbf        203 non-null    float64\n",
      " 15  phenotype  203 non-null    object \n",
      "dtypes: float64(14), object(2)\n",
      "memory usage: 25.5+ KB\n"
     ]
    }
   ],
   "source": [
    "alphanorm.info()"
   ]
  },
  {
   "cell_type": "code",
   "execution_count": 4,
   "metadata": {},
   "outputs": [
    {
     "data": {
      "text/html": [
       "<div>\n",
       "<style scoped>\n",
       "    .dataframe tbody tr th:only-of-type {\n",
       "        vertical-align: middle;\n",
       "    }\n",
       "\n",
       "    .dataframe tbody tr th {\n",
       "        vertical-align: top;\n",
       "    }\n",
       "\n",
       "    .dataframe thead th {\n",
       "        text-align: right;\n",
       "    }\n",
       "</style>\n",
       "<table border=\"1\" class=\"dataframe\">\n",
       "  <thead>\n",
       "    <tr style=\"text-align: right;\">\n",
       "      <th></th>\n",
       "      <th>hb</th>\n",
       "      <th>pcv</th>\n",
       "      <th>rbc</th>\n",
       "      <th>mcv</th>\n",
       "      <th>mch</th>\n",
       "      <th>mchc</th>\n",
       "      <th>rdw</th>\n",
       "      <th>wbc</th>\n",
       "      <th>neut</th>\n",
       "      <th>lymph</th>\n",
       "      <th>plt</th>\n",
       "      <th>hba</th>\n",
       "      <th>hba2</th>\n",
       "      <th>hbf</th>\n",
       "    </tr>\n",
       "  </thead>\n",
       "  <tbody>\n",
       "    <tr>\n",
       "      <th>count</th>\n",
       "      <td>203.000000</td>\n",
       "      <td>203.000000</td>\n",
       "      <td>202.000000</td>\n",
       "      <td>203.000000</td>\n",
       "      <td>201.000000</td>\n",
       "      <td>203.000000</td>\n",
       "      <td>203.000000</td>\n",
       "      <td>203.000000</td>\n",
       "      <td>203.00000</td>\n",
       "      <td>203.000000</td>\n",
       "      <td>203.000000</td>\n",
       "      <td>203.000000</td>\n",
       "      <td>203.000000</td>\n",
       "      <td>203.000000</td>\n",
       "    </tr>\n",
       "    <tr>\n",
       "      <th>mean</th>\n",
       "      <td>12.111823</td>\n",
       "      <td>36.676757</td>\n",
       "      <td>5.057432</td>\n",
       "      <td>74.167128</td>\n",
       "      <td>24.200498</td>\n",
       "      <td>32.497322</td>\n",
       "      <td>14.848380</td>\n",
       "      <td>9.188423</td>\n",
       "      <td>46.08398</td>\n",
       "      <td>43.516162</td>\n",
       "      <td>328.265663</td>\n",
       "      <td>86.515666</td>\n",
       "      <td>2.579554</td>\n",
       "      <td>0.664367</td>\n",
       "    </tr>\n",
       "    <tr>\n",
       "      <th>std</th>\n",
       "      <td>1.757800</td>\n",
       "      <td>4.821295</td>\n",
       "      <td>0.585929</td>\n",
       "      <td>9.280344</td>\n",
       "      <td>3.805844</td>\n",
       "      <td>1.979277</td>\n",
       "      <td>2.381027</td>\n",
       "      <td>2.591782</td>\n",
       "      <td>11.79773</td>\n",
       "      <td>11.992417</td>\n",
       "      <td>114.284337</td>\n",
       "      <td>2.436432</td>\n",
       "      <td>0.312889</td>\n",
       "      <td>0.739903</td>\n",
       "    </tr>\n",
       "    <tr>\n",
       "      <th>min</th>\n",
       "      <td>7.600000</td>\n",
       "      <td>22.100000</td>\n",
       "      <td>2.410000</td>\n",
       "      <td>47.700000</td>\n",
       "      <td>11.100000</td>\n",
       "      <td>21.100000</td>\n",
       "      <td>10.800000</td>\n",
       "      <td>2.300000</td>\n",
       "      <td>6.20000</td>\n",
       "      <td>10.300000</td>\n",
       "      <td>100.000000</td>\n",
       "      <td>68.000000</td>\n",
       "      <td>0.300000</td>\n",
       "      <td>0.000000</td>\n",
       "    </tr>\n",
       "    <tr>\n",
       "      <th>25%</th>\n",
       "      <td>10.900000</td>\n",
       "      <td>33.300000</td>\n",
       "      <td>4.700000</td>\n",
       "      <td>66.950000</td>\n",
       "      <td>21.200000</td>\n",
       "      <td>31.550000</td>\n",
       "      <td>13.300000</td>\n",
       "      <td>7.500000</td>\n",
       "      <td>43.00000</td>\n",
       "      <td>37.000000</td>\n",
       "      <td>256.000000</td>\n",
       "      <td>85.200000</td>\n",
       "      <td>2.500000</td>\n",
       "      <td>0.300000</td>\n",
       "    </tr>\n",
       "    <tr>\n",
       "      <th>50%</th>\n",
       "      <td>12.000000</td>\n",
       "      <td>36.000000</td>\n",
       "      <td>5.025000</td>\n",
       "      <td>73.800000</td>\n",
       "      <td>24.100000</td>\n",
       "      <td>32.500000</td>\n",
       "      <td>14.700000</td>\n",
       "      <td>8.915278</td>\n",
       "      <td>47.56500</td>\n",
       "      <td>41.537931</td>\n",
       "      <td>310.000000</td>\n",
       "      <td>86.523291</td>\n",
       "      <td>2.600000</td>\n",
       "      <td>0.537931</td>\n",
       "    </tr>\n",
       "    <tr>\n",
       "      <th>75%</th>\n",
       "      <td>13.350000</td>\n",
       "      <td>39.150000</td>\n",
       "      <td>5.437500</td>\n",
       "      <td>81.900000</td>\n",
       "      <td>26.800000</td>\n",
       "      <td>33.446296</td>\n",
       "      <td>15.950000</td>\n",
       "      <td>10.550000</td>\n",
       "      <td>52.15000</td>\n",
       "      <td>46.000000</td>\n",
       "      <td>379.500000</td>\n",
       "      <td>87.365714</td>\n",
       "      <td>2.700000</td>\n",
       "      <td>0.769231</td>\n",
       "    </tr>\n",
       "    <tr>\n",
       "      <th>max</th>\n",
       "      <td>16.700000</td>\n",
       "      <td>51.100000</td>\n",
       "      <td>6.770000</td>\n",
       "      <td>91.700000</td>\n",
       "      <td>35.600000</td>\n",
       "      <td>40.800000</td>\n",
       "      <td>28.800000</td>\n",
       "      <td>20.400000</td>\n",
       "      <td>77.50000</td>\n",
       "      <td>87.000000</td>\n",
       "      <td>1107.000000</td>\n",
       "      <td>98.400000</td>\n",
       "      <td>3.300000</td>\n",
       "      <td>5.800000</td>\n",
       "    </tr>\n",
       "  </tbody>\n",
       "</table>\n",
       "</div>"
      ],
      "text/plain": [
       "               hb         pcv         rbc         mcv         mch        mchc  \\\n",
       "count  203.000000  203.000000  202.000000  203.000000  201.000000  203.000000   \n",
       "mean    12.111823   36.676757    5.057432   74.167128   24.200498   32.497322   \n",
       "std      1.757800    4.821295    0.585929    9.280344    3.805844    1.979277   \n",
       "min      7.600000   22.100000    2.410000   47.700000   11.100000   21.100000   \n",
       "25%     10.900000   33.300000    4.700000   66.950000   21.200000   31.550000   \n",
       "50%     12.000000   36.000000    5.025000   73.800000   24.100000   32.500000   \n",
       "75%     13.350000   39.150000    5.437500   81.900000   26.800000   33.446296   \n",
       "max     16.700000   51.100000    6.770000   91.700000   35.600000   40.800000   \n",
       "\n",
       "              rdw         wbc       neut       lymph          plt         hba  \\\n",
       "count  203.000000  203.000000  203.00000  203.000000   203.000000  203.000000   \n",
       "mean    14.848380    9.188423   46.08398   43.516162   328.265663   86.515666   \n",
       "std      2.381027    2.591782   11.79773   11.992417   114.284337    2.436432   \n",
       "min     10.800000    2.300000    6.20000   10.300000   100.000000   68.000000   \n",
       "25%     13.300000    7.500000   43.00000   37.000000   256.000000   85.200000   \n",
       "50%     14.700000    8.915278   47.56500   41.537931   310.000000   86.523291   \n",
       "75%     15.950000   10.550000   52.15000   46.000000   379.500000   87.365714   \n",
       "max     28.800000   20.400000   77.50000   87.000000  1107.000000   98.400000   \n",
       "\n",
       "             hba2         hbf  \n",
       "count  203.000000  203.000000  \n",
       "mean     2.579554    0.664367  \n",
       "std      0.312889    0.739903  \n",
       "min      0.300000    0.000000  \n",
       "25%      2.500000    0.300000  \n",
       "50%      2.600000    0.537931  \n",
       "75%      2.700000    0.769231  \n",
       "max      3.300000    5.800000  "
      ]
     },
     "execution_count": 4,
     "metadata": {},
     "output_type": "execute_result"
    }
   ],
   "source": [
    "alphanorm.describe()"
   ]
  },
  {
   "cell_type": "code",
   "execution_count": 5,
   "metadata": {},
   "outputs": [
    {
     "data": {
      "text/html": [
       "<div>\n",
       "<style scoped>\n",
       "    .dataframe tbody tr th:only-of-type {\n",
       "        vertical-align: middle;\n",
       "    }\n",
       "\n",
       "    .dataframe tbody tr th {\n",
       "        vertical-align: top;\n",
       "    }\n",
       "\n",
       "    .dataframe thead th {\n",
       "        text-align: right;\n",
       "    }\n",
       "</style>\n",
       "<table border=\"1\" class=\"dataframe\">\n",
       "  <thead>\n",
       "    <tr style=\"text-align: right;\">\n",
       "      <th></th>\n",
       "      <th>sex</th>\n",
       "      <th>hb</th>\n",
       "      <th>pcv</th>\n",
       "      <th>rbc</th>\n",
       "      <th>mcv</th>\n",
       "      <th>mch</th>\n",
       "      <th>mchc</th>\n",
       "      <th>rdw</th>\n",
       "      <th>wbc</th>\n",
       "      <th>neut</th>\n",
       "      <th>lymph</th>\n",
       "      <th>plt</th>\n",
       "      <th>hba</th>\n",
       "      <th>hba2</th>\n",
       "      <th>hbf</th>\n",
       "      <th>phenotype</th>\n",
       "    </tr>\n",
       "  </thead>\n",
       "  <tbody>\n",
       "    <tr>\n",
       "      <th>0</th>\n",
       "      <td>female</td>\n",
       "      <td>10.8</td>\n",
       "      <td>35.2</td>\n",
       "      <td>5.12</td>\n",
       "      <td>68.7</td>\n",
       "      <td>21.2</td>\n",
       "      <td>30.8</td>\n",
       "      <td>13.4</td>\n",
       "      <td>9.6</td>\n",
       "      <td>53.0</td>\n",
       "      <td>33.0</td>\n",
       "      <td>309.0</td>\n",
       "      <td>88.5</td>\n",
       "      <td>2.6</td>\n",
       "      <td>0.11</td>\n",
       "      <td>alpha carrier</td>\n",
       "    </tr>\n",
       "    <tr>\n",
       "      <th>1</th>\n",
       "      <td>male</td>\n",
       "      <td>10.8</td>\n",
       "      <td>26.6</td>\n",
       "      <td>4.28</td>\n",
       "      <td>62.1</td>\n",
       "      <td>25.3</td>\n",
       "      <td>40.8</td>\n",
       "      <td>19.8</td>\n",
       "      <td>10.3</td>\n",
       "      <td>49.4</td>\n",
       "      <td>43.1</td>\n",
       "      <td>687.0</td>\n",
       "      <td>87.8</td>\n",
       "      <td>2.4</td>\n",
       "      <td>0.90</td>\n",
       "      <td>alpha carrier</td>\n",
       "    </tr>\n",
       "    <tr>\n",
       "      <th>2</th>\n",
       "      <td>female</td>\n",
       "      <td>10.8</td>\n",
       "      <td>35.2</td>\n",
       "      <td>5.12</td>\n",
       "      <td>68.7</td>\n",
       "      <td>21.2</td>\n",
       "      <td>30.8</td>\n",
       "      <td>13.4</td>\n",
       "      <td>9.6</td>\n",
       "      <td>53.0</td>\n",
       "      <td>33.0</td>\n",
       "      <td>309.0</td>\n",
       "      <td>88.5</td>\n",
       "      <td>2.6</td>\n",
       "      <td>0.10</td>\n",
       "      <td>alpha carrier</td>\n",
       "    </tr>\n",
       "    <tr>\n",
       "      <th>3</th>\n",
       "      <td>male</td>\n",
       "      <td>14.5</td>\n",
       "      <td>43.5</td>\n",
       "      <td>5.17</td>\n",
       "      <td>84.0</td>\n",
       "      <td>28.0</td>\n",
       "      <td>33.4</td>\n",
       "      <td>12.1</td>\n",
       "      <td>11.9</td>\n",
       "      <td>31.0</td>\n",
       "      <td>50.0</td>\n",
       "      <td>334.0</td>\n",
       "      <td>86.8</td>\n",
       "      <td>2.8</td>\n",
       "      <td>0.30</td>\n",
       "      <td>alpha carrier</td>\n",
       "    </tr>\n",
       "    <tr>\n",
       "      <th>4</th>\n",
       "      <td>male</td>\n",
       "      <td>11.5</td>\n",
       "      <td>34.4</td>\n",
       "      <td>5.02</td>\n",
       "      <td>68.7</td>\n",
       "      <td>22.9</td>\n",
       "      <td>33.4</td>\n",
       "      <td>15.7</td>\n",
       "      <td>20.4</td>\n",
       "      <td>67.0</td>\n",
       "      <td>30.0</td>\n",
       "      <td>596.0</td>\n",
       "      <td>86.3</td>\n",
       "      <td>2.4</td>\n",
       "      <td>1.30</td>\n",
       "      <td>alpha carrier</td>\n",
       "    </tr>\n",
       "  </tbody>\n",
       "</table>\n",
       "</div>"
      ],
      "text/plain": [
       "      sex    hb   pcv   rbc   mcv   mch  mchc   rdw   wbc  neut  lymph    plt  \\\n",
       "0  female  10.8  35.2  5.12  68.7  21.2  30.8  13.4   9.6  53.0   33.0  309.0   \n",
       "1    male  10.8  26.6  4.28  62.1  25.3  40.8  19.8  10.3  49.4   43.1  687.0   \n",
       "2  female  10.8  35.2  5.12  68.7  21.2  30.8  13.4   9.6  53.0   33.0  309.0   \n",
       "3    male  14.5  43.5  5.17  84.0  28.0  33.4  12.1  11.9  31.0   50.0  334.0   \n",
       "4    male  11.5  34.4  5.02  68.7  22.9  33.4  15.7  20.4  67.0   30.0  596.0   \n",
       "\n",
       "    hba  hba2   hbf      phenotype  \n",
       "0  88.5   2.6  0.11  alpha carrier  \n",
       "1  87.8   2.4  0.90  alpha carrier  \n",
       "2  88.5   2.6  0.10  alpha carrier  \n",
       "3  86.8   2.8  0.30  alpha carrier  \n",
       "4  86.3   2.4  1.30  alpha carrier  "
      ]
     },
     "execution_count": 5,
     "metadata": {},
     "output_type": "execute_result"
    }
   ],
   "source": [
    "alphanorm.head()"
   ]
  },
  {
   "cell_type": "markdown",
   "metadata": {},
   "source": [
    "- only 203 when considering alpha carries and normals"
   ]
  },
  {
   "cell_type": "code",
   "execution_count": 6,
   "metadata": {},
   "outputs": [],
   "source": [
    "alphanorm['rbc'] = alphanorm['rbc'].fillna(alphanorm.groupby('phenotype')['rbc'].transform('mean'))\n",
    "alphanorm['mch'] = alphanorm['mch'].fillna(alphanorm.groupby('phenotype')['mch'].transform('mean'))"
   ]
  },
  {
   "cell_type": "code",
   "execution_count": null,
   "metadata": {},
   "outputs": [],
   "source": []
  },
  {
   "cell_type": "code",
   "execution_count": 7,
   "metadata": {},
   "outputs": [
    {
     "data": {
      "text/plain": [
       "alpha carrier    148\n",
       "normal            55\n",
       "Name: phenotype, dtype: int64"
      ]
     },
     "execution_count": 7,
     "metadata": {},
     "output_type": "execute_result"
    }
   ],
   "source": [
    "alphanorm.phenotype.value_counts()"
   ]
  },
  {
   "cell_type": "code",
   "execution_count": 8,
   "metadata": {},
   "outputs": [
    {
     "name": "stdout",
     "output_type": "stream",
     "text": [
      "<class 'pandas.core.frame.DataFrame'>\n",
      "RangeIndex: 203 entries, 0 to 202\n",
      "Data columns (total 16 columns):\n",
      " #   Column     Non-Null Count  Dtype  \n",
      "---  ------     --------------  -----  \n",
      " 0   sex        203 non-null    object \n",
      " 1   hb         203 non-null    float64\n",
      " 2   pcv        203 non-null    float64\n",
      " 3   rbc        203 non-null    float64\n",
      " 4   mcv        203 non-null    float64\n",
      " 5   mch        203 non-null    float64\n",
      " 6   mchc       203 non-null    float64\n",
      " 7   rdw        203 non-null    float64\n",
      " 8   wbc        203 non-null    float64\n",
      " 9   neut       203 non-null    float64\n",
      " 10  lymph      203 non-null    float64\n",
      " 11  plt        203 non-null    float64\n",
      " 12  hba        203 non-null    float64\n",
      " 13  hba2       203 non-null    float64\n",
      " 14  hbf        203 non-null    float64\n",
      " 15  phenotype  203 non-null    object \n",
      "dtypes: float64(14), object(2)\n",
      "memory usage: 25.5+ KB\n"
     ]
    }
   ],
   "source": [
    "alphanorm.info()"
   ]
  },
  {
   "cell_type": "markdown",
   "metadata": {},
   "source": [
    "Changing fonts in each elements of a plot :\n",
    "https://stackoverflow.com/questions/12444716/how-do-i-set-the-figure-title-and-axes-labels-font-size-in-matplotlib"
   ]
  },
  {
   "cell_type": "code",
   "execution_count": 9,
   "metadata": {},
   "outputs": [],
   "source": [
    "#modelling :\n",
    "#will include these variables as well\n",
    "alphanorm = alphanorm.drop(['hbf', 'wbc', 'neut', 'lymph'], axis=1)"
   ]
  },
  {
   "cell_type": "code",
   "execution_count": 10,
   "metadata": {},
   "outputs": [
    {
     "data": {
      "text/plain": [
       "sex           object\n",
       "hb           float64\n",
       "pcv          float64\n",
       "rbc          float64\n",
       "mcv          float64\n",
       "mch          float64\n",
       "mchc         float64\n",
       "rdw          float64\n",
       "plt          float64\n",
       "hba          float64\n",
       "hba2         float64\n",
       "phenotype     object\n",
       "dtype: object"
      ]
     },
     "execution_count": 10,
     "metadata": {},
     "output_type": "execute_result"
    }
   ],
   "source": [
    "alphanorm.dtypes"
   ]
  },
  {
   "cell_type": "code",
   "execution_count": 11,
   "metadata": {},
   "outputs": [
    {
     "data": {
      "text/html": [
       "<div>\n",
       "<style scoped>\n",
       "    .dataframe tbody tr th:only-of-type {\n",
       "        vertical-align: middle;\n",
       "    }\n",
       "\n",
       "    .dataframe tbody tr th {\n",
       "        vertical-align: top;\n",
       "    }\n",
       "\n",
       "    .dataframe thead th {\n",
       "        text-align: right;\n",
       "    }\n",
       "</style>\n",
       "<table border=\"1\" class=\"dataframe\">\n",
       "  <thead>\n",
       "    <tr style=\"text-align: right;\">\n",
       "      <th></th>\n",
       "      <th>hb</th>\n",
       "      <th>pcv</th>\n",
       "      <th>rbc</th>\n",
       "      <th>mcv</th>\n",
       "      <th>mch</th>\n",
       "      <th>mchc</th>\n",
       "      <th>rdw</th>\n",
       "      <th>plt</th>\n",
       "      <th>hba</th>\n",
       "      <th>hba2</th>\n",
       "    </tr>\n",
       "  </thead>\n",
       "  <tbody>\n",
       "    <tr>\n",
       "      <th>count</th>\n",
       "      <td>203.000000</td>\n",
       "      <td>203.000000</td>\n",
       "      <td>203.000000</td>\n",
       "      <td>203.000000</td>\n",
       "      <td>203.000000</td>\n",
       "      <td>203.000000</td>\n",
       "      <td>203.000000</td>\n",
       "      <td>203.000000</td>\n",
       "      <td>203.000000</td>\n",
       "      <td>203.000000</td>\n",
       "    </tr>\n",
       "    <tr>\n",
       "      <th>mean</th>\n",
       "      <td>12.111823</td>\n",
       "      <td>36.676757</td>\n",
       "      <td>5.057293</td>\n",
       "      <td>74.167128</td>\n",
       "      <td>24.202443</td>\n",
       "      <td>32.497322</td>\n",
       "      <td>14.848380</td>\n",
       "      <td>328.265663</td>\n",
       "      <td>86.515666</td>\n",
       "      <td>2.579554</td>\n",
       "    </tr>\n",
       "    <tr>\n",
       "      <th>std</th>\n",
       "      <td>1.757800</td>\n",
       "      <td>4.821295</td>\n",
       "      <td>0.584480</td>\n",
       "      <td>9.280344</td>\n",
       "      <td>3.787007</td>\n",
       "      <td>1.979277</td>\n",
       "      <td>2.381027</td>\n",
       "      <td>114.284337</td>\n",
       "      <td>2.436432</td>\n",
       "      <td>0.312889</td>\n",
       "    </tr>\n",
       "    <tr>\n",
       "      <th>min</th>\n",
       "      <td>7.600000</td>\n",
       "      <td>22.100000</td>\n",
       "      <td>2.410000</td>\n",
       "      <td>47.700000</td>\n",
       "      <td>11.100000</td>\n",
       "      <td>21.100000</td>\n",
       "      <td>10.800000</td>\n",
       "      <td>100.000000</td>\n",
       "      <td>68.000000</td>\n",
       "      <td>0.300000</td>\n",
       "    </tr>\n",
       "    <tr>\n",
       "      <th>25%</th>\n",
       "      <td>10.900000</td>\n",
       "      <td>33.300000</td>\n",
       "      <td>4.700000</td>\n",
       "      <td>66.950000</td>\n",
       "      <td>21.250000</td>\n",
       "      <td>31.550000</td>\n",
       "      <td>13.300000</td>\n",
       "      <td>256.000000</td>\n",
       "      <td>85.200000</td>\n",
       "      <td>2.500000</td>\n",
       "    </tr>\n",
       "    <tr>\n",
       "      <th>50%</th>\n",
       "      <td>12.000000</td>\n",
       "      <td>36.000000</td>\n",
       "      <td>5.029125</td>\n",
       "      <td>73.800000</td>\n",
       "      <td>24.200000</td>\n",
       "      <td>32.500000</td>\n",
       "      <td>14.700000</td>\n",
       "      <td>310.000000</td>\n",
       "      <td>86.523291</td>\n",
       "      <td>2.600000</td>\n",
       "    </tr>\n",
       "    <tr>\n",
       "      <th>75%</th>\n",
       "      <td>13.350000</td>\n",
       "      <td>39.150000</td>\n",
       "      <td>5.435000</td>\n",
       "      <td>81.900000</td>\n",
       "      <td>26.800000</td>\n",
       "      <td>33.446296</td>\n",
       "      <td>15.950000</td>\n",
       "      <td>379.500000</td>\n",
       "      <td>87.365714</td>\n",
       "      <td>2.700000</td>\n",
       "    </tr>\n",
       "    <tr>\n",
       "      <th>max</th>\n",
       "      <td>16.700000</td>\n",
       "      <td>51.100000</td>\n",
       "      <td>6.770000</td>\n",
       "      <td>91.700000</td>\n",
       "      <td>35.600000</td>\n",
       "      <td>40.800000</td>\n",
       "      <td>28.800000</td>\n",
       "      <td>1107.000000</td>\n",
       "      <td>98.400000</td>\n",
       "      <td>3.300000</td>\n",
       "    </tr>\n",
       "  </tbody>\n",
       "</table>\n",
       "</div>"
      ],
      "text/plain": [
       "               hb         pcv         rbc         mcv         mch        mchc  \\\n",
       "count  203.000000  203.000000  203.000000  203.000000  203.000000  203.000000   \n",
       "mean    12.111823   36.676757    5.057293   74.167128   24.202443   32.497322   \n",
       "std      1.757800    4.821295    0.584480    9.280344    3.787007    1.979277   \n",
       "min      7.600000   22.100000    2.410000   47.700000   11.100000   21.100000   \n",
       "25%     10.900000   33.300000    4.700000   66.950000   21.250000   31.550000   \n",
       "50%     12.000000   36.000000    5.029125   73.800000   24.200000   32.500000   \n",
       "75%     13.350000   39.150000    5.435000   81.900000   26.800000   33.446296   \n",
       "max     16.700000   51.100000    6.770000   91.700000   35.600000   40.800000   \n",
       "\n",
       "              rdw          plt         hba        hba2  \n",
       "count  203.000000   203.000000  203.000000  203.000000  \n",
       "mean    14.848380   328.265663   86.515666    2.579554  \n",
       "std      2.381027   114.284337    2.436432    0.312889  \n",
       "min     10.800000   100.000000   68.000000    0.300000  \n",
       "25%     13.300000   256.000000   85.200000    2.500000  \n",
       "50%     14.700000   310.000000   86.523291    2.600000  \n",
       "75%     15.950000   379.500000   87.365714    2.700000  \n",
       "max     28.800000  1107.000000   98.400000    3.300000  "
      ]
     },
     "execution_count": 11,
     "metadata": {},
     "output_type": "execute_result"
    }
   ],
   "source": [
    "alphanorm.describe()"
   ]
  },
  {
   "cell_type": "code",
   "execution_count": 12,
   "metadata": {},
   "outputs": [
    {
     "name": "stdout",
     "output_type": "stream",
     "text": [
      "17.025000000000002\n",
      "47.92500000000002\n",
      "6.537500000000001\n",
      "104.32500000000003\n",
      "35.125\n",
      "36.29074075\n",
      "19.924999999999997\n",
      "564.75\n",
      "90.61428571249999\n",
      "3.0000000000000004\n"
     ]
    }
   ],
   "source": [
    "for col in alphanorm.columns:\n",
    "    if alphanorm[col].dtype != object:\n",
    "        Q1 = alphanorm[col].quantile(0.25)\n",
    "        Q3 = alphanorm[col].quantile(0.75)\n",
    "        IQR = Q3 - Q1\n",
    "        S = 1.5*IQR\n",
    "        LB = Q1 - S\n",
    "        UB = Q3 + S\n",
    "        print(UB)\n",
    "        alphanorm.loc[alphanorm[col] > UB,col] = UB\n",
    "        alphanorm.loc[alphanorm[col] < LB,col] = LB"
   ]
  },
  {
   "cell_type": "code",
   "execution_count": 13,
   "metadata": {},
   "outputs": [
    {
     "data": {
      "text/html": [
       "<div>\n",
       "<style scoped>\n",
       "    .dataframe tbody tr th:only-of-type {\n",
       "        vertical-align: middle;\n",
       "    }\n",
       "\n",
       "    .dataframe tbody tr th {\n",
       "        vertical-align: top;\n",
       "    }\n",
       "\n",
       "    .dataframe thead th {\n",
       "        text-align: right;\n",
       "    }\n",
       "</style>\n",
       "<table border=\"1\" class=\"dataframe\">\n",
       "  <thead>\n",
       "    <tr style=\"text-align: right;\">\n",
       "      <th></th>\n",
       "      <th>hb</th>\n",
       "      <th>pcv</th>\n",
       "      <th>rbc</th>\n",
       "      <th>mcv</th>\n",
       "      <th>mch</th>\n",
       "      <th>mchc</th>\n",
       "      <th>rdw</th>\n",
       "      <th>plt</th>\n",
       "      <th>hba</th>\n",
       "      <th>hba2</th>\n",
       "    </tr>\n",
       "  </thead>\n",
       "  <tbody>\n",
       "    <tr>\n",
       "      <th>count</th>\n",
       "      <td>203.000000</td>\n",
       "      <td>203.000000</td>\n",
       "      <td>203.000000</td>\n",
       "      <td>203.000000</td>\n",
       "      <td>203.000000</td>\n",
       "      <td>203.000000</td>\n",
       "      <td>203.000000</td>\n",
       "      <td>203.000000</td>\n",
       "      <td>203.000000</td>\n",
       "      <td>203.000000</td>\n",
       "    </tr>\n",
       "    <tr>\n",
       "      <th>mean</th>\n",
       "      <td>12.111823</td>\n",
       "      <td>36.668013</td>\n",
       "      <td>5.061197</td>\n",
       "      <td>74.167128</td>\n",
       "      <td>24.209093</td>\n",
       "      <td>32.541985</td>\n",
       "      <td>14.739390</td>\n",
       "      <td>323.875269</td>\n",
       "      <td>86.457172</td>\n",
       "      <td>2.600737</td>\n",
       "    </tr>\n",
       "    <tr>\n",
       "      <th>std</th>\n",
       "      <td>1.757800</td>\n",
       "      <td>4.730102</td>\n",
       "      <td>0.557916</td>\n",
       "      <td>9.280344</td>\n",
       "      <td>3.750817</td>\n",
       "      <td>1.616079</td>\n",
       "      <td>1.971135</td>\n",
       "      <td>96.533639</td>\n",
       "      <td>1.523440</td>\n",
       "      <td>0.197139</td>\n",
       "    </tr>\n",
       "    <tr>\n",
       "      <th>min</th>\n",
       "      <td>7.600000</td>\n",
       "      <td>24.525000</td>\n",
       "      <td>3.597500</td>\n",
       "      <td>47.700000</td>\n",
       "      <td>12.925000</td>\n",
       "      <td>28.705556</td>\n",
       "      <td>10.800000</td>\n",
       "      <td>100.000000</td>\n",
       "      <td>81.951429</td>\n",
       "      <td>2.200000</td>\n",
       "    </tr>\n",
       "    <tr>\n",
       "      <th>25%</th>\n",
       "      <td>10.900000</td>\n",
       "      <td>33.300000</td>\n",
       "      <td>4.700000</td>\n",
       "      <td>66.950000</td>\n",
       "      <td>21.250000</td>\n",
       "      <td>31.550000</td>\n",
       "      <td>13.300000</td>\n",
       "      <td>256.000000</td>\n",
       "      <td>85.200000</td>\n",
       "      <td>2.500000</td>\n",
       "    </tr>\n",
       "    <tr>\n",
       "      <th>50%</th>\n",
       "      <td>12.000000</td>\n",
       "      <td>36.000000</td>\n",
       "      <td>5.029125</td>\n",
       "      <td>73.800000</td>\n",
       "      <td>24.200000</td>\n",
       "      <td>32.500000</td>\n",
       "      <td>14.700000</td>\n",
       "      <td>310.000000</td>\n",
       "      <td>86.523291</td>\n",
       "      <td>2.600000</td>\n",
       "    </tr>\n",
       "    <tr>\n",
       "      <th>75%</th>\n",
       "      <td>13.350000</td>\n",
       "      <td>39.150000</td>\n",
       "      <td>5.435000</td>\n",
       "      <td>81.900000</td>\n",
       "      <td>26.800000</td>\n",
       "      <td>33.446296</td>\n",
       "      <td>15.950000</td>\n",
       "      <td>379.500000</td>\n",
       "      <td>87.365714</td>\n",
       "      <td>2.700000</td>\n",
       "    </tr>\n",
       "    <tr>\n",
       "      <th>max</th>\n",
       "      <td>16.700000</td>\n",
       "      <td>47.925000</td>\n",
       "      <td>6.537500</td>\n",
       "      <td>91.700000</td>\n",
       "      <td>35.125000</td>\n",
       "      <td>36.290741</td>\n",
       "      <td>19.925000</td>\n",
       "      <td>564.750000</td>\n",
       "      <td>90.614286</td>\n",
       "      <td>3.000000</td>\n",
       "    </tr>\n",
       "  </tbody>\n",
       "</table>\n",
       "</div>"
      ],
      "text/plain": [
       "               hb         pcv         rbc         mcv         mch        mchc  \\\n",
       "count  203.000000  203.000000  203.000000  203.000000  203.000000  203.000000   \n",
       "mean    12.111823   36.668013    5.061197   74.167128   24.209093   32.541985   \n",
       "std      1.757800    4.730102    0.557916    9.280344    3.750817    1.616079   \n",
       "min      7.600000   24.525000    3.597500   47.700000   12.925000   28.705556   \n",
       "25%     10.900000   33.300000    4.700000   66.950000   21.250000   31.550000   \n",
       "50%     12.000000   36.000000    5.029125   73.800000   24.200000   32.500000   \n",
       "75%     13.350000   39.150000    5.435000   81.900000   26.800000   33.446296   \n",
       "max     16.700000   47.925000    6.537500   91.700000   35.125000   36.290741   \n",
       "\n",
       "              rdw         plt         hba        hba2  \n",
       "count  203.000000  203.000000  203.000000  203.000000  \n",
       "mean    14.739390  323.875269   86.457172    2.600737  \n",
       "std      1.971135   96.533639    1.523440    0.197139  \n",
       "min     10.800000  100.000000   81.951429    2.200000  \n",
       "25%     13.300000  256.000000   85.200000    2.500000  \n",
       "50%     14.700000  310.000000   86.523291    2.600000  \n",
       "75%     15.950000  379.500000   87.365714    2.700000  \n",
       "max     19.925000  564.750000   90.614286    3.000000  "
      ]
     },
     "execution_count": 13,
     "metadata": {},
     "output_type": "execute_result"
    }
   ],
   "source": [
    "alphanorm.describe()"
   ]
  },
  {
   "cell_type": "code",
   "execution_count": 14,
   "metadata": {},
   "outputs": [
    {
     "name": "stdout",
     "output_type": "stream",
     "text": [
      "<class 'pandas.core.frame.DataFrame'>\n",
      "RangeIndex: 203 entries, 0 to 202\n",
      "Data columns (total 12 columns):\n",
      " #   Column     Non-Null Count  Dtype  \n",
      "---  ------     --------------  -----  \n",
      " 0   sex        203 non-null    object \n",
      " 1   hb         203 non-null    float64\n",
      " 2   pcv        203 non-null    float64\n",
      " 3   rbc        203 non-null    float64\n",
      " 4   mcv        203 non-null    float64\n",
      " 5   mch        203 non-null    float64\n",
      " 6   mchc       203 non-null    float64\n",
      " 7   rdw        203 non-null    float64\n",
      " 8   plt        203 non-null    float64\n",
      " 9   hba        203 non-null    float64\n",
      " 10  hba2       203 non-null    float64\n",
      " 11  phenotype  203 non-null    object \n",
      "dtypes: float64(10), object(2)\n",
      "memory usage: 19.2+ KB\n"
     ]
    }
   ],
   "source": [
    "alphanorm.info()"
   ]
  },
  {
   "cell_type": "code",
   "execution_count": 15,
   "metadata": {},
   "outputs": [],
   "source": [
    "alphanorm = alphanorm.astype({'sex' : 'category', 'phenotype' : 'category'})"
   ]
  },
  {
   "cell_type": "code",
   "execution_count": 16,
   "metadata": {},
   "outputs": [
    {
     "data": {
      "text/plain": [
       "alpha carrier    148\n",
       "normal            55\n",
       "Name: phenotype, dtype: int64"
      ]
     },
     "execution_count": 16,
     "metadata": {},
     "output_type": "execute_result"
    }
   ],
   "source": [
    "alphanorm.phenotype.value_counts()"
   ]
  },
  {
   "cell_type": "code",
   "execution_count": 17,
   "metadata": {},
   "outputs": [],
   "source": [
    "#trial = alphanorm.loc[alphanorm['phenotype'] == 'alpha carrier']"
   ]
  },
  {
   "cell_type": "code",
   "execution_count": 18,
   "metadata": {},
   "outputs": [],
   "source": [
    "alphanorm['phenotype'] = alphanorm['phenotype'] == 'alpha carrier'\n",
    "alphanorm['phenotype'] = alphanorm['phenotype'].replace({True:1, False:0})"
   ]
  },
  {
   "cell_type": "code",
   "execution_count": 19,
   "metadata": {},
   "outputs": [
    {
     "data": {
      "text/html": [
       "<div>\n",
       "<style scoped>\n",
       "    .dataframe tbody tr th:only-of-type {\n",
       "        vertical-align: middle;\n",
       "    }\n",
       "\n",
       "    .dataframe tbody tr th {\n",
       "        vertical-align: top;\n",
       "    }\n",
       "\n",
       "    .dataframe thead th {\n",
       "        text-align: right;\n",
       "    }\n",
       "</style>\n",
       "<table border=\"1\" class=\"dataframe\">\n",
       "  <thead>\n",
       "    <tr style=\"text-align: right;\">\n",
       "      <th></th>\n",
       "      <th>sex</th>\n",
       "      <th>hb</th>\n",
       "      <th>pcv</th>\n",
       "      <th>rbc</th>\n",
       "      <th>mcv</th>\n",
       "      <th>mch</th>\n",
       "      <th>mchc</th>\n",
       "      <th>rdw</th>\n",
       "      <th>plt</th>\n",
       "      <th>hba</th>\n",
       "      <th>hba2</th>\n",
       "      <th>phenotype</th>\n",
       "    </tr>\n",
       "  </thead>\n",
       "  <tbody>\n",
       "    <tr>\n",
       "      <th>0</th>\n",
       "      <td>female</td>\n",
       "      <td>10.8</td>\n",
       "      <td>35.2</td>\n",
       "      <td>5.12</td>\n",
       "      <td>68.7</td>\n",
       "      <td>21.2</td>\n",
       "      <td>30.800000</td>\n",
       "      <td>13.4</td>\n",
       "      <td>309.00</td>\n",
       "      <td>88.5</td>\n",
       "      <td>2.6</td>\n",
       "      <td>1</td>\n",
       "    </tr>\n",
       "    <tr>\n",
       "      <th>1</th>\n",
       "      <td>male</td>\n",
       "      <td>10.8</td>\n",
       "      <td>26.6</td>\n",
       "      <td>4.28</td>\n",
       "      <td>62.1</td>\n",
       "      <td>25.3</td>\n",
       "      <td>36.290741</td>\n",
       "      <td>19.8</td>\n",
       "      <td>564.75</td>\n",
       "      <td>87.8</td>\n",
       "      <td>2.4</td>\n",
       "      <td>1</td>\n",
       "    </tr>\n",
       "    <tr>\n",
       "      <th>2</th>\n",
       "      <td>female</td>\n",
       "      <td>10.8</td>\n",
       "      <td>35.2</td>\n",
       "      <td>5.12</td>\n",
       "      <td>68.7</td>\n",
       "      <td>21.2</td>\n",
       "      <td>30.800000</td>\n",
       "      <td>13.4</td>\n",
       "      <td>309.00</td>\n",
       "      <td>88.5</td>\n",
       "      <td>2.6</td>\n",
       "      <td>1</td>\n",
       "    </tr>\n",
       "    <tr>\n",
       "      <th>3</th>\n",
       "      <td>male</td>\n",
       "      <td>14.5</td>\n",
       "      <td>43.5</td>\n",
       "      <td>5.17</td>\n",
       "      <td>84.0</td>\n",
       "      <td>28.0</td>\n",
       "      <td>33.400000</td>\n",
       "      <td>12.1</td>\n",
       "      <td>334.00</td>\n",
       "      <td>86.8</td>\n",
       "      <td>2.8</td>\n",
       "      <td>1</td>\n",
       "    </tr>\n",
       "    <tr>\n",
       "      <th>4</th>\n",
       "      <td>male</td>\n",
       "      <td>11.5</td>\n",
       "      <td>34.4</td>\n",
       "      <td>5.02</td>\n",
       "      <td>68.7</td>\n",
       "      <td>22.9</td>\n",
       "      <td>33.400000</td>\n",
       "      <td>15.7</td>\n",
       "      <td>564.75</td>\n",
       "      <td>86.3</td>\n",
       "      <td>2.4</td>\n",
       "      <td>1</td>\n",
       "    </tr>\n",
       "    <tr>\n",
       "      <th>...</th>\n",
       "      <td>...</td>\n",
       "      <td>...</td>\n",
       "      <td>...</td>\n",
       "      <td>...</td>\n",
       "      <td>...</td>\n",
       "      <td>...</td>\n",
       "      <td>...</td>\n",
       "      <td>...</td>\n",
       "      <td>...</td>\n",
       "      <td>...</td>\n",
       "      <td>...</td>\n",
       "      <td>...</td>\n",
       "    </tr>\n",
       "    <tr>\n",
       "      <th>195</th>\n",
       "      <td>female</td>\n",
       "      <td>11.4</td>\n",
       "      <td>36.5</td>\n",
       "      <td>5.23</td>\n",
       "      <td>69.8</td>\n",
       "      <td>21.8</td>\n",
       "      <td>31.300000</td>\n",
       "      <td>15.9</td>\n",
       "      <td>528.00</td>\n",
       "      <td>85.7</td>\n",
       "      <td>2.7</td>\n",
       "      <td>0</td>\n",
       "    </tr>\n",
       "    <tr>\n",
       "      <th>196</th>\n",
       "      <td>female</td>\n",
       "      <td>13.1</td>\n",
       "      <td>39.9</td>\n",
       "      <td>4.88</td>\n",
       "      <td>81.8</td>\n",
       "      <td>26.9</td>\n",
       "      <td>32.800000</td>\n",
       "      <td>15.6</td>\n",
       "      <td>268.00</td>\n",
       "      <td>86.7</td>\n",
       "      <td>2.7</td>\n",
       "      <td>0</td>\n",
       "    </tr>\n",
       "    <tr>\n",
       "      <th>197</th>\n",
       "      <td>male</td>\n",
       "      <td>15.3</td>\n",
       "      <td>46.9</td>\n",
       "      <td>5.20</td>\n",
       "      <td>90.2</td>\n",
       "      <td>29.5</td>\n",
       "      <td>32.700000</td>\n",
       "      <td>12.7</td>\n",
       "      <td>215.00</td>\n",
       "      <td>86.7</td>\n",
       "      <td>2.6</td>\n",
       "      <td>0</td>\n",
       "    </tr>\n",
       "    <tr>\n",
       "      <th>198</th>\n",
       "      <td>male</td>\n",
       "      <td>15.5</td>\n",
       "      <td>45.9</td>\n",
       "      <td>5.19</td>\n",
       "      <td>88.4</td>\n",
       "      <td>29.9</td>\n",
       "      <td>33.800000</td>\n",
       "      <td>12.6</td>\n",
       "      <td>177.00</td>\n",
       "      <td>88.6</td>\n",
       "      <td>3.0</td>\n",
       "      <td>0</td>\n",
       "    </tr>\n",
       "    <tr>\n",
       "      <th>199</th>\n",
       "      <td>female</td>\n",
       "      <td>10.4</td>\n",
       "      <td>33.3</td>\n",
       "      <td>4.93</td>\n",
       "      <td>67.6</td>\n",
       "      <td>21.1</td>\n",
       "      <td>31.200000</td>\n",
       "      <td>14.8</td>\n",
       "      <td>295.00</td>\n",
       "      <td>88.0</td>\n",
       "      <td>2.4</td>\n",
       "      <td>0</td>\n",
       "    </tr>\n",
       "  </tbody>\n",
       "</table>\n",
       "<p>200 rows × 12 columns</p>\n",
       "</div>"
      ],
      "text/plain": [
       "        sex    hb   pcv   rbc   mcv   mch       mchc   rdw     plt   hba  \\\n",
       "0    female  10.8  35.2  5.12  68.7  21.2  30.800000  13.4  309.00  88.5   \n",
       "1      male  10.8  26.6  4.28  62.1  25.3  36.290741  19.8  564.75  87.8   \n",
       "2    female  10.8  35.2  5.12  68.7  21.2  30.800000  13.4  309.00  88.5   \n",
       "3      male  14.5  43.5  5.17  84.0  28.0  33.400000  12.1  334.00  86.8   \n",
       "4      male  11.5  34.4  5.02  68.7  22.9  33.400000  15.7  564.75  86.3   \n",
       "..      ...   ...   ...   ...   ...   ...        ...   ...     ...   ...   \n",
       "195  female  11.4  36.5  5.23  69.8  21.8  31.300000  15.9  528.00  85.7   \n",
       "196  female  13.1  39.9  4.88  81.8  26.9  32.800000  15.6  268.00  86.7   \n",
       "197    male  15.3  46.9  5.20  90.2  29.5  32.700000  12.7  215.00  86.7   \n",
       "198    male  15.5  45.9  5.19  88.4  29.9  33.800000  12.6  177.00  88.6   \n",
       "199  female  10.4  33.3  4.93  67.6  21.1  31.200000  14.8  295.00  88.0   \n",
       "\n",
       "     hba2  phenotype  \n",
       "0     2.6          1  \n",
       "1     2.4          1  \n",
       "2     2.6          1  \n",
       "3     2.8          1  \n",
       "4     2.4          1  \n",
       "..    ...        ...  \n",
       "195   2.7          0  \n",
       "196   2.7          0  \n",
       "197   2.6          0  \n",
       "198   3.0          0  \n",
       "199   2.4          0  \n",
       "\n",
       "[200 rows x 12 columns]"
      ]
     },
     "execution_count": 19,
     "metadata": {},
     "output_type": "execute_result"
    }
   ],
   "source": [
    "alphanorm.head(200)"
   ]
  },
  {
   "cell_type": "markdown",
   "metadata": {},
   "source": [
    "Converting boolean column to int :\n",
    "https://stackoverflow.com/questions/17383094/how-can-i-map-true-false-to-1-0-in-a-pandas-dataframe"
   ]
  },
  {
   "cell_type": "code",
   "execution_count": 20,
   "metadata": {},
   "outputs": [],
   "source": [
    "#splitting inputs and the labels :\n",
    "X = alphanorm.drop('phenotype', axis=1)\n",
    "y = alphanorm['phenotype']"
   ]
  },
  {
   "cell_type": "code",
   "execution_count": 21,
   "metadata": {},
   "outputs": [
    {
     "data": {
      "text/plain": [
       "1    148\n",
       "0     55\n",
       "Name: phenotype, dtype: int64"
      ]
     },
     "execution_count": 21,
     "metadata": {},
     "output_type": "execute_result"
    }
   ],
   "source": [
    "y.value_counts()"
   ]
  },
  {
   "cell_type": "code",
   "execution_count": 22,
   "metadata": {},
   "outputs": [
    {
     "data": {
      "text/plain": [
       "['sex']"
      ]
     },
     "execution_count": 22,
     "metadata": {},
     "output_type": "execute_result"
    }
   ],
   "source": [
    "categorical_vars = list((X.select_dtypes(include=['category'])).columns)\n",
    "categorical_vars"
   ]
  },
  {
   "cell_type": "code",
   "execution_count": 23,
   "metadata": {
    "scrolled": true
   },
   "outputs": [],
   "source": [
    "from sklearn.preprocessing import OneHotEncoder\n",
    "from sklearn.compose import ColumnTransformer\n",
    "one_hot = OneHotEncoder()\n",
    "transformer = ColumnTransformer([('one_hot', one_hot, categorical_vars)], \n",
    "                                remainder= 'passthrough')\n",
    "#transformed_alpha = transformer.fit_transform(alphanorm)\n",
    "#transformed_alpha"
   ]
  },
  {
   "cell_type": "code",
   "execution_count": 24,
   "metadata": {},
   "outputs": [
    {
     "ename": "NameError",
     "evalue": "name 'transformed_alpha' is not defined",
     "output_type": "error",
     "traceback": [
      "\u001b[1;31m---------------------------------------------------------------------------\u001b[0m",
      "\u001b[1;31mNameError\u001b[0m                                 Traceback (most recent call last)",
      "\u001b[1;32m<ipython-input-24-82979c2eac64>\u001b[0m in \u001b[0;36m<module>\u001b[1;34m\u001b[0m\n\u001b[1;32m----> 1\u001b[1;33m \u001b[0mdf_transformed\u001b[0m \u001b[1;33m=\u001b[0m \u001b[0mpd\u001b[0m\u001b[1;33m.\u001b[0m\u001b[0mDataFrame\u001b[0m\u001b[1;33m(\u001b[0m\u001b[0mtransformed_alpha\u001b[0m\u001b[1;33m)\u001b[0m\u001b[1;33m\u001b[0m\u001b[1;33m\u001b[0m\u001b[0m\n\u001b[0m\u001b[0;32m      2\u001b[0m \u001b[0mdf_transformed\u001b[0m\u001b[1;33m.\u001b[0m\u001b[0mhead\u001b[0m\u001b[1;33m(\u001b[0m\u001b[1;33m)\u001b[0m\u001b[1;33m\u001b[0m\u001b[1;33m\u001b[0m\u001b[0m\n",
      "\u001b[1;31mNameError\u001b[0m: name 'transformed_alpha' is not defined"
     ]
    }
   ],
   "source": [
    "df_transformed = pd.DataFrame(transformed_alpha)\n",
    "df_transformed.head()"
   ]
  },
  {
   "cell_type": "code",
   "execution_count": 25,
   "metadata": {},
   "outputs": [],
   "source": [
    "#stratified train-test split\n",
    "from sklearn.model_selection import StratifiedShuffleSplit\n",
    "split = StratifiedShuffleSplit(n_splits=1, test_size=0.20, random_state=42)\n",
    "for train_index, test_index in split.split(alphanorm, alphanorm[\"phenotype\"]):\n",
    "    strat_train = alphanorm.loc[train_index]\n",
    "    strat_test = alphanorm.loc[test_index]"
   ]
  },
  {
   "cell_type": "code",
   "execution_count": 26,
   "metadata": {},
   "outputs": [
    {
     "data": {
      "text/html": [
       "<div>\n",
       "<style scoped>\n",
       "    .dataframe tbody tr th:only-of-type {\n",
       "        vertical-align: middle;\n",
       "    }\n",
       "\n",
       "    .dataframe tbody tr th {\n",
       "        vertical-align: top;\n",
       "    }\n",
       "\n",
       "    .dataframe thead th {\n",
       "        text-align: right;\n",
       "    }\n",
       "</style>\n",
       "<table border=\"1\" class=\"dataframe\">\n",
       "  <thead>\n",
       "    <tr style=\"text-align: right;\">\n",
       "      <th></th>\n",
       "      <th>sex</th>\n",
       "      <th>hb</th>\n",
       "      <th>pcv</th>\n",
       "      <th>rbc</th>\n",
       "      <th>mcv</th>\n",
       "      <th>mch</th>\n",
       "      <th>mchc</th>\n",
       "      <th>rdw</th>\n",
       "      <th>plt</th>\n",
       "      <th>hba</th>\n",
       "      <th>hba2</th>\n",
       "      <th>phenotype</th>\n",
       "    </tr>\n",
       "  </thead>\n",
       "  <tbody>\n",
       "    <tr>\n",
       "      <th>181</th>\n",
       "      <td>female</td>\n",
       "      <td>11.3</td>\n",
       "      <td>35.900000</td>\n",
       "      <td>4.71</td>\n",
       "      <td>76.0</td>\n",
       "      <td>24.0</td>\n",
       "      <td>31.5</td>\n",
       "      <td>14.0</td>\n",
       "      <td>268.00000</td>\n",
       "      <td>86.523291</td>\n",
       "      <td>2.588608</td>\n",
       "      <td>0</td>\n",
       "    </tr>\n",
       "    <tr>\n",
       "      <th>171</th>\n",
       "      <td>female</td>\n",
       "      <td>11.6</td>\n",
       "      <td>36.000000</td>\n",
       "      <td>4.69</td>\n",
       "      <td>77.0</td>\n",
       "      <td>25.0</td>\n",
       "      <td>32.2</td>\n",
       "      <td>13.3</td>\n",
       "      <td>249.00000</td>\n",
       "      <td>86.600000</td>\n",
       "      <td>2.500000</td>\n",
       "      <td>0</td>\n",
       "    </tr>\n",
       "    <tr>\n",
       "      <th>95</th>\n",
       "      <td>female</td>\n",
       "      <td>13.8</td>\n",
       "      <td>35.876404</td>\n",
       "      <td>5.81</td>\n",
       "      <td>74.0</td>\n",
       "      <td>23.7</td>\n",
       "      <td>31.6</td>\n",
       "      <td>11.8</td>\n",
       "      <td>312.00000</td>\n",
       "      <td>87.100000</td>\n",
       "      <td>2.600000</td>\n",
       "      <td>1</td>\n",
       "    </tr>\n",
       "    <tr>\n",
       "      <th>41</th>\n",
       "      <td>male</td>\n",
       "      <td>11.8</td>\n",
       "      <td>36.000000</td>\n",
       "      <td>5.27</td>\n",
       "      <td>68.3</td>\n",
       "      <td>22.4</td>\n",
       "      <td>32.5</td>\n",
       "      <td>14.8</td>\n",
       "      <td>311.00000</td>\n",
       "      <td>86.600000</td>\n",
       "      <td>2.700000</td>\n",
       "      <td>1</td>\n",
       "    </tr>\n",
       "    <tr>\n",
       "      <th>54</th>\n",
       "      <td>male</td>\n",
       "      <td>13.4</td>\n",
       "      <td>42.600000</td>\n",
       "      <td>5.13</td>\n",
       "      <td>83.0</td>\n",
       "      <td>26.2</td>\n",
       "      <td>31.6</td>\n",
       "      <td>12.0</td>\n",
       "      <td>235.00000</td>\n",
       "      <td>84.864586</td>\n",
       "      <td>2.679310</td>\n",
       "      <td>1</td>\n",
       "    </tr>\n",
       "    <tr>\n",
       "      <th>...</th>\n",
       "      <td>...</td>\n",
       "      <td>...</td>\n",
       "      <td>...</td>\n",
       "      <td>...</td>\n",
       "      <td>...</td>\n",
       "      <td>...</td>\n",
       "      <td>...</td>\n",
       "      <td>...</td>\n",
       "      <td>...</td>\n",
       "      <td>...</td>\n",
       "      <td>...</td>\n",
       "      <td>...</td>\n",
       "    </tr>\n",
       "    <tr>\n",
       "      <th>33</th>\n",
       "      <td>female</td>\n",
       "      <td>9.1</td>\n",
       "      <td>29.200000</td>\n",
       "      <td>4.38</td>\n",
       "      <td>61.9</td>\n",
       "      <td>19.3</td>\n",
       "      <td>31.1</td>\n",
       "      <td>16.1</td>\n",
       "      <td>410.00000</td>\n",
       "      <td>81.951429</td>\n",
       "      <td>2.200000</td>\n",
       "      <td>1</td>\n",
       "    </tr>\n",
       "    <tr>\n",
       "      <th>152</th>\n",
       "      <td>female</td>\n",
       "      <td>11.0</td>\n",
       "      <td>33.000000</td>\n",
       "      <td>5.29</td>\n",
       "      <td>62.4</td>\n",
       "      <td>20.8</td>\n",
       "      <td>33.3</td>\n",
       "      <td>16.0</td>\n",
       "      <td>335.00000</td>\n",
       "      <td>86.400000</td>\n",
       "      <td>3.000000</td>\n",
       "      <td>0</td>\n",
       "    </tr>\n",
       "    <tr>\n",
       "      <th>0</th>\n",
       "      <td>female</td>\n",
       "      <td>10.8</td>\n",
       "      <td>35.200000</td>\n",
       "      <td>5.12</td>\n",
       "      <td>68.7</td>\n",
       "      <td>21.2</td>\n",
       "      <td>30.8</td>\n",
       "      <td>13.4</td>\n",
       "      <td>309.00000</td>\n",
       "      <td>88.500000</td>\n",
       "      <td>2.600000</td>\n",
       "      <td>1</td>\n",
       "    </tr>\n",
       "    <tr>\n",
       "      <th>157</th>\n",
       "      <td>male</td>\n",
       "      <td>15.2</td>\n",
       "      <td>35.876404</td>\n",
       "      <td>6.09</td>\n",
       "      <td>72.6</td>\n",
       "      <td>25.0</td>\n",
       "      <td>34.4</td>\n",
       "      <td>12.2</td>\n",
       "      <td>332.27957</td>\n",
       "      <td>87.300000</td>\n",
       "      <td>2.600000</td>\n",
       "      <td>0</td>\n",
       "    </tr>\n",
       "    <tr>\n",
       "      <th>98</th>\n",
       "      <td>female</td>\n",
       "      <td>8.8</td>\n",
       "      <td>26.500000</td>\n",
       "      <td>3.81</td>\n",
       "      <td>69.6</td>\n",
       "      <td>23.0</td>\n",
       "      <td>33.0</td>\n",
       "      <td>14.7</td>\n",
       "      <td>180.00000</td>\n",
       "      <td>86.523291</td>\n",
       "      <td>2.588608</td>\n",
       "      <td>1</td>\n",
       "    </tr>\n",
       "  </tbody>\n",
       "</table>\n",
       "<p>100 rows × 12 columns</p>\n",
       "</div>"
      ],
      "text/plain": [
       "        sex    hb        pcv   rbc   mcv   mch  mchc   rdw        plt  \\\n",
       "181  female  11.3  35.900000  4.71  76.0  24.0  31.5  14.0  268.00000   \n",
       "171  female  11.6  36.000000  4.69  77.0  25.0  32.2  13.3  249.00000   \n",
       "95   female  13.8  35.876404  5.81  74.0  23.7  31.6  11.8  312.00000   \n",
       "41     male  11.8  36.000000  5.27  68.3  22.4  32.5  14.8  311.00000   \n",
       "54     male  13.4  42.600000  5.13  83.0  26.2  31.6  12.0  235.00000   \n",
       "..      ...   ...        ...   ...   ...   ...   ...   ...        ...   \n",
       "33   female   9.1  29.200000  4.38  61.9  19.3  31.1  16.1  410.00000   \n",
       "152  female  11.0  33.000000  5.29  62.4  20.8  33.3  16.0  335.00000   \n",
       "0    female  10.8  35.200000  5.12  68.7  21.2  30.8  13.4  309.00000   \n",
       "157    male  15.2  35.876404  6.09  72.6  25.0  34.4  12.2  332.27957   \n",
       "98   female   8.8  26.500000  3.81  69.6  23.0  33.0  14.7  180.00000   \n",
       "\n",
       "           hba      hba2  phenotype  \n",
       "181  86.523291  2.588608          0  \n",
       "171  86.600000  2.500000          0  \n",
       "95   87.100000  2.600000          1  \n",
       "41   86.600000  2.700000          1  \n",
       "54   84.864586  2.679310          1  \n",
       "..         ...       ...        ...  \n",
       "33   81.951429  2.200000          1  \n",
       "152  86.400000  3.000000          0  \n",
       "0    88.500000  2.600000          1  \n",
       "157  87.300000  2.600000          0  \n",
       "98   86.523291  2.588608          1  \n",
       "\n",
       "[100 rows x 12 columns]"
      ]
     },
     "execution_count": 26,
     "metadata": {},
     "output_type": "execute_result"
    }
   ],
   "source": [
    "strat_train.head(100)"
   ]
  },
  {
   "cell_type": "code",
   "execution_count": 27,
   "metadata": {},
   "outputs": [],
   "source": [
    "train_X = strat_train.drop('phenotype', axis=1)\n",
    "train_y = strat_train['phenotype']\n",
    "test_x = strat_test.drop('phenotype', axis=1)\n",
    "test_y = strat_test['phenotype']"
   ]
  },
  {
   "cell_type": "code",
   "execution_count": 28,
   "metadata": {},
   "outputs": [],
   "source": [
    "#onehotencoding train_x:\n",
    "one_hot1 = OneHotEncoder()\n",
    "transformer = ColumnTransformer([('one_hot', one_hot1, categorical_vars)], \n",
    "                                remainder= 'passthrough')\n",
    "trans_trainX = transformer.fit_transform(train_X)\n",
    "trans_trainX_df = pd.DataFrame(trans_trainX)"
   ]
  },
  {
   "cell_type": "code",
   "execution_count": 29,
   "metadata": {},
   "outputs": [],
   "source": [
    "#same for test_x:\n",
    "one_hot2 = OneHotEncoder()\n",
    "transformer = ColumnTransformer([('one_hot', one_hot2, categorical_vars)], \n",
    "                                remainder= 'passthrough')\n",
    "trans_testX = transformer.fit_transform(test_x)\n",
    "trans_testX_df = pd.DataFrame(trans_testX)"
   ]
  },
  {
   "cell_type": "code",
   "execution_count": 30,
   "metadata": {},
   "outputs": [
    {
     "data": {
      "text/html": [
       "<div>\n",
       "<style scoped>\n",
       "    .dataframe tbody tr th:only-of-type {\n",
       "        vertical-align: middle;\n",
       "    }\n",
       "\n",
       "    .dataframe tbody tr th {\n",
       "        vertical-align: top;\n",
       "    }\n",
       "\n",
       "    .dataframe thead th {\n",
       "        text-align: right;\n",
       "    }\n",
       "</style>\n",
       "<table border=\"1\" class=\"dataframe\">\n",
       "  <thead>\n",
       "    <tr style=\"text-align: right;\">\n",
       "      <th></th>\n",
       "      <th>0</th>\n",
       "      <th>1</th>\n",
       "      <th>2</th>\n",
       "      <th>3</th>\n",
       "      <th>4</th>\n",
       "      <th>5</th>\n",
       "      <th>6</th>\n",
       "      <th>7</th>\n",
       "      <th>8</th>\n",
       "      <th>9</th>\n",
       "      <th>10</th>\n",
       "      <th>11</th>\n",
       "    </tr>\n",
       "  </thead>\n",
       "  <tbody>\n",
       "    <tr>\n",
       "      <th>0</th>\n",
       "      <td>0.0</td>\n",
       "      <td>1.0</td>\n",
       "      <td>14.7</td>\n",
       "      <td>45.0</td>\n",
       "      <td>5.50</td>\n",
       "      <td>81.0</td>\n",
       "      <td>26.7</td>\n",
       "      <td>32.6</td>\n",
       "      <td>11.7</td>\n",
       "      <td>228.0</td>\n",
       "      <td>84.864586</td>\n",
       "      <td>2.67931</td>\n",
       "    </tr>\n",
       "    <tr>\n",
       "      <th>1</th>\n",
       "      <td>0.0</td>\n",
       "      <td>1.0</td>\n",
       "      <td>12.1</td>\n",
       "      <td>41.5</td>\n",
       "      <td>5.50</td>\n",
       "      <td>75.5</td>\n",
       "      <td>23.8</td>\n",
       "      <td>31.6</td>\n",
       "      <td>14.1</td>\n",
       "      <td>266.0</td>\n",
       "      <td>84.864586</td>\n",
       "      <td>2.67931</td>\n",
       "    </tr>\n",
       "    <tr>\n",
       "      <th>2</th>\n",
       "      <td>0.0</td>\n",
       "      <td>1.0</td>\n",
       "      <td>13.5</td>\n",
       "      <td>40.0</td>\n",
       "      <td>4.60</td>\n",
       "      <td>86.9</td>\n",
       "      <td>29.4</td>\n",
       "      <td>33.8</td>\n",
       "      <td>10.8</td>\n",
       "      <td>180.0</td>\n",
       "      <td>84.864586</td>\n",
       "      <td>2.67931</td>\n",
       "    </tr>\n",
       "    <tr>\n",
       "      <th>3</th>\n",
       "      <td>0.0</td>\n",
       "      <td>1.0</td>\n",
       "      <td>14.3</td>\n",
       "      <td>43.6</td>\n",
       "      <td>4.92</td>\n",
       "      <td>88.7</td>\n",
       "      <td>29.0</td>\n",
       "      <td>32.7</td>\n",
       "      <td>13.5</td>\n",
       "      <td>265.0</td>\n",
       "      <td>84.864586</td>\n",
       "      <td>2.67931</td>\n",
       "    </tr>\n",
       "    <tr>\n",
       "      <th>4</th>\n",
       "      <td>1.0</td>\n",
       "      <td>0.0</td>\n",
       "      <td>10.2</td>\n",
       "      <td>34.4</td>\n",
       "      <td>5.25</td>\n",
       "      <td>65.5</td>\n",
       "      <td>19.5</td>\n",
       "      <td>29.7</td>\n",
       "      <td>15.2</td>\n",
       "      <td>562.0</td>\n",
       "      <td>86.000000</td>\n",
       "      <td>2.90000</td>\n",
       "    </tr>\n",
       "  </tbody>\n",
       "</table>\n",
       "</div>"
      ],
      "text/plain": [
       "    0    1     2     3     4     5     6     7     8      9          10  \\\n",
       "0  0.0  1.0  14.7  45.0  5.50  81.0  26.7  32.6  11.7  228.0  84.864586   \n",
       "1  0.0  1.0  12.1  41.5  5.50  75.5  23.8  31.6  14.1  266.0  84.864586   \n",
       "2  0.0  1.0  13.5  40.0  4.60  86.9  29.4  33.8  10.8  180.0  84.864586   \n",
       "3  0.0  1.0  14.3  43.6  4.92  88.7  29.0  32.7  13.5  265.0  84.864586   \n",
       "4  1.0  0.0  10.2  34.4  5.25  65.5  19.5  29.7  15.2  562.0  86.000000   \n",
       "\n",
       "        11  \n",
       "0  2.67931  \n",
       "1  2.67931  \n",
       "2  2.67931  \n",
       "3  2.67931  \n",
       "4  2.90000  "
      ]
     },
     "execution_count": 30,
     "metadata": {},
     "output_type": "execute_result"
    }
   ],
   "source": [
    "trans_testX_df.head()"
   ]
  },
  {
   "cell_type": "code",
   "execution_count": 31,
   "metadata": {},
   "outputs": [
    {
     "data": {
      "text/html": [
       "<div>\n",
       "<style scoped>\n",
       "    .dataframe tbody tr th:only-of-type {\n",
       "        vertical-align: middle;\n",
       "    }\n",
       "\n",
       "    .dataframe tbody tr th {\n",
       "        vertical-align: top;\n",
       "    }\n",
       "\n",
       "    .dataframe thead th {\n",
       "        text-align: right;\n",
       "    }\n",
       "</style>\n",
       "<table border=\"1\" class=\"dataframe\">\n",
       "  <thead>\n",
       "    <tr style=\"text-align: right;\">\n",
       "      <th></th>\n",
       "      <th>0</th>\n",
       "      <th>1</th>\n",
       "      <th>2</th>\n",
       "      <th>3</th>\n",
       "      <th>4</th>\n",
       "      <th>5</th>\n",
       "      <th>6</th>\n",
       "      <th>7</th>\n",
       "      <th>8</th>\n",
       "      <th>9</th>\n",
       "      <th>10</th>\n",
       "      <th>11</th>\n",
       "    </tr>\n",
       "  </thead>\n",
       "  <tbody>\n",
       "    <tr>\n",
       "      <th>0</th>\n",
       "      <td>1.0</td>\n",
       "      <td>0.0</td>\n",
       "      <td>11.3</td>\n",
       "      <td>35.900000</td>\n",
       "      <td>4.71</td>\n",
       "      <td>76.0</td>\n",
       "      <td>24.0</td>\n",
       "      <td>31.5</td>\n",
       "      <td>14.0</td>\n",
       "      <td>268.0</td>\n",
       "      <td>86.523291</td>\n",
       "      <td>2.588608</td>\n",
       "    </tr>\n",
       "    <tr>\n",
       "      <th>1</th>\n",
       "      <td>1.0</td>\n",
       "      <td>0.0</td>\n",
       "      <td>11.6</td>\n",
       "      <td>36.000000</td>\n",
       "      <td>4.69</td>\n",
       "      <td>77.0</td>\n",
       "      <td>25.0</td>\n",
       "      <td>32.2</td>\n",
       "      <td>13.3</td>\n",
       "      <td>249.0</td>\n",
       "      <td>86.600000</td>\n",
       "      <td>2.500000</td>\n",
       "    </tr>\n",
       "    <tr>\n",
       "      <th>2</th>\n",
       "      <td>1.0</td>\n",
       "      <td>0.0</td>\n",
       "      <td>13.8</td>\n",
       "      <td>35.876404</td>\n",
       "      <td>5.81</td>\n",
       "      <td>74.0</td>\n",
       "      <td>23.7</td>\n",
       "      <td>31.6</td>\n",
       "      <td>11.8</td>\n",
       "      <td>312.0</td>\n",
       "      <td>87.100000</td>\n",
       "      <td>2.600000</td>\n",
       "    </tr>\n",
       "    <tr>\n",
       "      <th>3</th>\n",
       "      <td>0.0</td>\n",
       "      <td>1.0</td>\n",
       "      <td>11.8</td>\n",
       "      <td>36.000000</td>\n",
       "      <td>5.27</td>\n",
       "      <td>68.3</td>\n",
       "      <td>22.4</td>\n",
       "      <td>32.5</td>\n",
       "      <td>14.8</td>\n",
       "      <td>311.0</td>\n",
       "      <td>86.600000</td>\n",
       "      <td>2.700000</td>\n",
       "    </tr>\n",
       "    <tr>\n",
       "      <th>4</th>\n",
       "      <td>0.0</td>\n",
       "      <td>1.0</td>\n",
       "      <td>13.4</td>\n",
       "      <td>42.600000</td>\n",
       "      <td>5.13</td>\n",
       "      <td>83.0</td>\n",
       "      <td>26.2</td>\n",
       "      <td>31.6</td>\n",
       "      <td>12.0</td>\n",
       "      <td>235.0</td>\n",
       "      <td>84.864586</td>\n",
       "      <td>2.679310</td>\n",
       "    </tr>\n",
       "  </tbody>\n",
       "</table>\n",
       "</div>"
      ],
      "text/plain": [
       "    0    1     2          3     4     5     6     7     8      9          10  \\\n",
       "0  1.0  0.0  11.3  35.900000  4.71  76.0  24.0  31.5  14.0  268.0  86.523291   \n",
       "1  1.0  0.0  11.6  36.000000  4.69  77.0  25.0  32.2  13.3  249.0  86.600000   \n",
       "2  1.0  0.0  13.8  35.876404  5.81  74.0  23.7  31.6  11.8  312.0  87.100000   \n",
       "3  0.0  1.0  11.8  36.000000  5.27  68.3  22.4  32.5  14.8  311.0  86.600000   \n",
       "4  0.0  1.0  13.4  42.600000  5.13  83.0  26.2  31.6  12.0  235.0  84.864586   \n",
       "\n",
       "         11  \n",
       "0  2.588608  \n",
       "1  2.500000  \n",
       "2  2.600000  \n",
       "3  2.700000  \n",
       "4  2.679310  "
      ]
     },
     "execution_count": 31,
     "metadata": {},
     "output_type": "execute_result"
    }
   ],
   "source": [
    "trans_trainX_df.head()"
   ]
  },
  {
   "cell_type": "code",
   "execution_count": 32,
   "metadata": {},
   "outputs": [
    {
     "data": {
      "text/plain": [
       "<bound method Series.unique of 181    0\n",
       "171    0\n",
       "95     1\n",
       "41     1\n",
       "54     1\n",
       "      ..\n",
       "93     1\n",
       "20     1\n",
       "85     1\n",
       "77     1\n",
       "143    1\n",
       "Name: phenotype, Length: 162, dtype: int64>"
      ]
     },
     "execution_count": 32,
     "metadata": {},
     "output_type": "execute_result"
    }
   ],
   "source": [
    "train_y.unique"
   ]
  },
  {
   "cell_type": "markdown",
   "metadata": {},
   "source": [
    "using cross_val_score with stratified folds - https://stackoverflow.com/questions/59002684/forcing-sklearn-cross-val-score-to-use-stratified-k-fold"
   ]
  },
  {
   "cell_type": "code",
   "execution_count": 213,
   "metadata": {},
   "outputs": [
    {
     "ename": "NameError",
     "evalue": "name 'results' is not defined",
     "output_type": "error",
     "traceback": [
      "\u001b[1;31m---------------------------------------------------------------------------\u001b[0m",
      "\u001b[1;31mNameError\u001b[0m                                 Traceback (most recent call last)",
      "\u001b[1;32m<ipython-input-213-100f62972f2f>\u001b[0m in \u001b[0;36m<module>\u001b[1;34m\u001b[0m\n\u001b[1;32m----> 1\u001b[1;33m \u001b[0mresults\u001b[0m\u001b[1;33m\u001b[0m\u001b[1;33m\u001b[0m\u001b[0m\n\u001b[0m",
      "\u001b[1;31mNameError\u001b[0m: name 'results' is not defined"
     ]
    }
   ],
   "source": [
    "results"
   ]
  },
  {
   "cell_type": "code",
   "execution_count": 33,
   "metadata": {},
   "outputs": [
    {
     "name": "stderr",
     "output_type": "stream",
     "text": [
      "[Parallel(n_jobs=-1)]: Using backend ThreadingBackend with 12 concurrent workers.\n",
      "[Parallel(n_jobs=-1)]: Done  26 tasks      | elapsed:    0.1s\n",
      "[Parallel(n_jobs=-1)]: Done 176 tasks      | elapsed:    0.8s\n",
      "[Parallel(n_jobs=-1)]: Done 426 tasks      | elapsed:    1.8s\n",
      "[Parallel(n_jobs=-1)]: Done 500 out of 500 | elapsed:    2.1s finished\n"
     ]
    },
    {
     "data": {
      "text/plain": [
       "RandomForestClassifier(max_features='log2', min_samples_leaf=4,\n",
       "                       n_estimators=500, n_jobs=-1, oob_score=True,\n",
       "                       verbose=True)"
      ]
     },
     "execution_count": 33,
     "metadata": {},
     "output_type": "execute_result"
    }
   ],
   "source": [
    "from sklearn.ensemble import RandomForestClassifier\n",
    "model = RandomForestClassifier(verbose=True, oob_score=True, n_estimators=500, max_features='log2', n_jobs=-1, min_samples_leaf=4)\n",
    "model.fit(trans_trainX_df, train_y)\n"
   ]
  },
  {
   "cell_type": "code",
   "execution_count": 34,
   "metadata": {},
   "outputs": [
    {
     "name": "stderr",
     "output_type": "stream",
     "text": [
      "[Parallel(n_jobs=12)]: Using backend ThreadingBackend with 12 concurrent workers.\n",
      "[Parallel(n_jobs=12)]: Done  26 tasks      | elapsed:    0.0s\n",
      "[Parallel(n_jobs=12)]: Done 176 tasks      | elapsed:    0.0s\n",
      "[Parallel(n_jobs=12)]: Done 426 tasks      | elapsed:    0.0s\n",
      "[Parallel(n_jobs=12)]: Done 500 out of 500 | elapsed:    0.1s finished\n"
     ]
    }
   ],
   "source": [
    "y_scores = model.predict(trans_trainX_df)"
   ]
  },
  {
   "cell_type": "code",
   "execution_count": 35,
   "metadata": {},
   "outputs": [
    {
     "name": "stdout",
     "output_type": "stream",
     "text": [
      "              precision    recall  f1-score   support\n",
      "\n",
      "           0       0.57      1.00      0.72        25\n",
      "           1       1.00      0.86      0.93       137\n",
      "\n",
      "    accuracy                           0.88       162\n",
      "   macro avg       0.78      0.93      0.83       162\n",
      "weighted avg       0.93      0.88      0.89       162\n",
      "\n"
     ]
    }
   ],
   "source": [
    "from sklearn.metrics import classification_report\n",
    "print(classification_report(y_scores, train_y))"
   ]
  },
  {
   "cell_type": "code",
   "execution_count": 36,
   "metadata": {},
   "outputs": [
    {
     "name": "stderr",
     "output_type": "stream",
     "text": [
      "[Parallel(n_jobs=12)]: Using backend ThreadingBackend with 12 concurrent workers.\n",
      "[Parallel(n_jobs=12)]: Done  26 tasks      | elapsed:    0.0s\n",
      "[Parallel(n_jobs=12)]: Done 176 tasks      | elapsed:    0.0s\n",
      "[Parallel(n_jobs=12)]: Done 426 tasks      | elapsed:    0.1s\n",
      "[Parallel(n_jobs=12)]: Done 500 out of 500 | elapsed:    0.1s finished\n"
     ]
    }
   ],
   "source": [
    "y_scores_valid = model.predict(trans_testX_df)"
   ]
  },
  {
   "cell_type": "code",
   "execution_count": 37,
   "metadata": {},
   "outputs": [
    {
     "name": "stdout",
     "output_type": "stream",
     "text": [
      "              precision    recall  f1-score   support\n",
      "\n",
      "           0       0.18      0.67      0.29         3\n",
      "           1       0.97      0.76      0.85        38\n",
      "\n",
      "    accuracy                           0.76        41\n",
      "   macro avg       0.57      0.71      0.57        41\n",
      "weighted avg       0.91      0.76      0.81        41\n",
      "\n"
     ]
    }
   ],
   "source": [
    "print(classification_report(y_scores_valid,test_y))"
   ]
  },
  {
   "cell_type": "code",
   "execution_count": 38,
   "metadata": {},
   "outputs": [],
   "source": [
    "from sklearn.model_selection import GridSearchCV"
   ]
  },
  {
   "cell_type": "code",
   "execution_count": 39,
   "metadata": {},
   "outputs": [],
   "source": [
    "#using gridsearch to get the best parameters"
   ]
  },
  {
   "cell_type": "code",
   "execution_count": 40,
   "metadata": {},
   "outputs": [
    {
     "data": {
      "text/plain": [
       "GridSearchCV(cv=5, estimator=RandomForestClassifier(),\n",
       "             param_grid=[{'max_features': [0.5, 'sqrt', 'log2'],\n",
       "                          'min_samples_leaf': [4],\n",
       "                          'n_estimators': [100, 150, 200, 250, 300, 350, 400,\n",
       "                                           450, 500, 600],\n",
       "                          'n_jobs': [-1]},\n",
       "                         {'max_features': [0.5, 'sqrt', 'log2'],\n",
       "                          'n_estimators': [100, 150, 200, 250, 300, 350, 400,\n",
       "                                           450, 500],\n",
       "                          'n_jobs': [-1]}],\n",
       "             return_train_score=True, scoring='accuracy')"
      ]
     },
     "execution_count": 40,
     "metadata": {},
     "output_type": "execute_result"
    }
   ],
   "source": [
    "param_grid = [\n",
    "{'n_estimators': [100, 150, 200, 250, 300, 350, 400, 450, 500, 600], 'max_features': [0.5, 'sqrt', 'log2'], 'min_samples_leaf':[4], \n",
    " 'n_jobs':[-1]},\n",
    "{'n_estimators': [100, 150, 200, 250, 300, 350, 400, 450, 500], 'max_features': [0.5, 'sqrt', 'log2'],  \n",
    " 'n_jobs':[-1]}, \n",
    "   ]\n",
    "\n",
    "rf = RandomForestClassifier()\n",
    "grid_search = GridSearchCV(rf, param_grid, cv=5,\n",
    "scoring='accuracy',\n",
    "return_train_score=True)\n",
    "grid_search.fit(trans_trainX_df, train_y)"
   ]
  },
  {
   "cell_type": "code",
   "execution_count": 41,
   "metadata": {},
   "outputs": [
    {
     "data": {
      "text/plain": [
       "{'max_features': 'log2',\n",
       " 'min_samples_leaf': 4,\n",
       " 'n_estimators': 200,\n",
       " 'n_jobs': -1}"
      ]
     },
     "execution_count": 41,
     "metadata": {},
     "output_type": "execute_result"
    }
   ],
   "source": [
    "grid_search.best_params_\n"
   ]
  },
  {
   "cell_type": "code",
   "execution_count": 42,
   "metadata": {},
   "outputs": [
    {
     "name": "stderr",
     "output_type": "stream",
     "text": [
      "[Parallel(n_jobs=-1)]: Using backend ThreadingBackend with 12 concurrent workers.\n",
      "[Parallel(n_jobs=-1)]: Done  26 tasks      | elapsed:    0.1s\n",
      "[Parallel(n_jobs=-1)]: Done 176 tasks      | elapsed:    0.7s\n",
      "[Parallel(n_jobs=-1)]: Done 200 out of 200 | elapsed:    0.7s finished\n"
     ]
    },
    {
     "data": {
      "text/plain": [
       "RandomForestClassifier(max_features='log2', min_samples_leaf=4,\n",
       "                       n_estimators=200, n_jobs=-1, oob_score=True,\n",
       "                       verbose=True)"
      ]
     },
     "execution_count": 42,
     "metadata": {},
     "output_type": "execute_result"
    }
   ],
   "source": [
    "model = RandomForestClassifier(verbose=True, oob_score=True, n_estimators=200, max_features='log2', n_jobs=-1, min_samples_leaf=4)\n",
    "model.fit(trans_trainX_df, train_y)\n"
   ]
  },
  {
   "cell_type": "code",
   "execution_count": 43,
   "metadata": {},
   "outputs": [],
   "source": [
    "from sklearn.metrics import f1_score"
   ]
  },
  {
   "cell_type": "code",
   "execution_count": 44,
   "metadata": {},
   "outputs": [
    {
     "name": "stderr",
     "output_type": "stream",
     "text": [
      "[Parallel(n_jobs=12)]: Using backend ThreadingBackend with 12 concurrent workers.\n",
      "[Parallel(n_jobs=12)]: Done  26 tasks      | elapsed:    0.0s\n",
      "[Parallel(n_jobs=12)]: Done 176 tasks      | elapsed:    0.0s\n",
      "[Parallel(n_jobs=12)]: Done 200 out of 200 | elapsed:    0.0s finished\n"
     ]
    },
    {
     "data": {
      "text/plain": [
       "0.8695652173913044"
      ]
     },
     "execution_count": 44,
     "metadata": {},
     "output_type": "execute_result"
    }
   ],
   "source": [
    "#f1_score :\n",
    "f1_score(model.predict(trans_testX_df), test_y)"
   ]
  },
  {
   "cell_type": "code",
   "execution_count": 45,
   "metadata": {},
   "outputs": [
    {
     "name": "stderr",
     "output_type": "stream",
     "text": [
      "[Parallel(n_jobs=12)]: Using backend ThreadingBackend with 12 concurrent workers.\n",
      "[Parallel(n_jobs=12)]: Done  26 tasks      | elapsed:    0.0s\n",
      "[Parallel(n_jobs=12)]: Done 176 tasks      | elapsed:    0.0s\n",
      "[Parallel(n_jobs=12)]: Done 200 out of 200 | elapsed:    0.0s finished\n"
     ]
    },
    {
     "data": {
      "text/plain": [
       "1.0"
      ]
     },
     "execution_count": 45,
     "metadata": {},
     "output_type": "execute_result"
    }
   ],
   "source": [
    "from sklearn.metrics import precision_score\n",
    "precision_score(model.predict(trans_testX_df), test_y)"
   ]
  },
  {
   "cell_type": "code",
   "execution_count": 46,
   "metadata": {},
   "outputs": [
    {
     "name": "stderr",
     "output_type": "stream",
     "text": [
      "[Parallel(n_jobs=12)]: Using backend ThreadingBackend with 12 concurrent workers.\n",
      "[Parallel(n_jobs=12)]: Done  26 tasks      | elapsed:    0.0s\n",
      "[Parallel(n_jobs=12)]: Done 176 tasks      | elapsed:    0.0s\n",
      "[Parallel(n_jobs=12)]: Done 200 out of 200 | elapsed:    0.0s finished\n"
     ]
    },
    {
     "data": {
      "text/plain": [
       "0.7692307692307693"
      ]
     },
     "execution_count": 46,
     "metadata": {},
     "output_type": "execute_result"
    }
   ],
   "source": [
    "from sklearn.metrics import recall_score\n",
    "recall_score(model.predict(trans_testX_df), test_y)"
   ]
  },
  {
   "cell_type": "code",
   "execution_count": 47,
   "metadata": {},
   "outputs": [
    {
     "name": "stdout",
     "output_type": "stream",
     "text": [
      "              precision    recall  f1-score   support\n",
      "\n",
      "           0       0.61      1.00      0.76        27\n",
      "           1       1.00      0.87      0.93       135\n",
      "\n",
      "    accuracy                           0.90       162\n",
      "   macro avg       0.81      0.94      0.85       162\n",
      "weighted avg       0.94      0.90      0.90       162\n",
      "\n"
     ]
    },
    {
     "name": "stderr",
     "output_type": "stream",
     "text": [
      "[Parallel(n_jobs=12)]: Using backend ThreadingBackend with 12 concurrent workers.\n",
      "[Parallel(n_jobs=12)]: Done  26 tasks      | elapsed:    0.0s\n",
      "[Parallel(n_jobs=12)]: Done 176 tasks      | elapsed:    0.0s\n",
      "[Parallel(n_jobs=12)]: Done 200 out of 200 | elapsed:    0.0s finished\n"
     ]
    }
   ],
   "source": [
    "y_scores = model.predict(trans_trainX_df)\n",
    "print(classification_report(y_scores, train_y))"
   ]
  },
  {
   "cell_type": "code",
   "execution_count": 48,
   "metadata": {},
   "outputs": [
    {
     "name": "stdout",
     "output_type": "stream",
     "text": [
      "              precision    recall  f1-score   support\n",
      "\n",
      "           0       0.18      1.00      0.31         2\n",
      "           1       1.00      0.77      0.87        39\n",
      "\n",
      "    accuracy                           0.78        41\n",
      "   macro avg       0.59      0.88      0.59        41\n",
      "weighted avg       0.96      0.78      0.84        41\n",
      "\n"
     ]
    },
    {
     "name": "stderr",
     "output_type": "stream",
     "text": [
      "[Parallel(n_jobs=12)]: Using backend ThreadingBackend with 12 concurrent workers.\n",
      "[Parallel(n_jobs=12)]: Done  26 tasks      | elapsed:    0.0s\n",
      "[Parallel(n_jobs=12)]: Done 176 tasks      | elapsed:    0.0s\n",
      "[Parallel(n_jobs=12)]: Done 200 out of 200 | elapsed:    0.0s finished\n"
     ]
    }
   ],
   "source": [
    "y_scores_valid = model.predict(trans_testX_df)\n",
    "print(classification_report(y_scores_valid,test_y))"
   ]
  },
  {
   "cell_type": "code",
   "execution_count": 53,
   "metadata": {},
   "outputs": [
    {
     "name": "stderr",
     "output_type": "stream",
     "text": [
      "[Parallel(n_jobs=12)]: Using backend ThreadingBackend with 12 concurrent workers.\n",
      "[Parallel(n_jobs=12)]: Done  26 tasks      | elapsed:    0.0s\n",
      "[Parallel(n_jobs=12)]: Done 176 tasks      | elapsed:    0.0s\n",
      "[Parallel(n_jobs=12)]: Done 200 out of 200 | elapsed:    0.0s finished\n"
     ]
    }
   ],
   "source": [
    "from sklearn.metrics import precision_recall_curve\n",
    "y_scores = model.predict_proba(trans_testX_df)\n",
    "#precision_recall_curve(test_y, y_scores)"
   ]
  },
  {
   "cell_type": "code",
   "execution_count": 140,
   "metadata": {},
   "outputs": [
    {
     "ename": "NameError",
     "evalue": "name 'model1' is not defined",
     "output_type": "error",
     "traceback": [
      "\u001b[1;31m---------------------------------------------------------------------------\u001b[0m",
      "\u001b[1;31mNameError\u001b[0m                                 Traceback (most recent call last)",
      "\u001b[1;32m<ipython-input-140-b81240a189d5>\u001b[0m in \u001b[0;36m<module>\u001b[1;34m\u001b[0m\n\u001b[1;32m----> 1\u001b[1;33m \u001b[0mmodel1\u001b[0m\u001b[1;33m.\u001b[0m\u001b[0mclasses_\u001b[0m\u001b[1;33m\u001b[0m\u001b[1;33m\u001b[0m\u001b[0m\n\u001b[0m",
      "\u001b[1;31mNameError\u001b[0m: name 'model1' is not defined"
     ]
    }
   ],
   "source": [
    "model1.classes_"
   ]
  },
  {
   "cell_type": "code",
   "execution_count": 54,
   "metadata": {},
   "outputs": [
    {
     "data": {
      "text/plain": [
       "array([[0.39250572, 0.60749428],\n",
       "       [0.25320079, 0.74679921],\n",
       "       [0.1713831 , 0.8286169 ],\n",
       "       [0.17947367, 0.82052633],\n",
       "       [0.489447  , 0.510553  ],\n",
       "       [0.56838878, 0.43161122],\n",
       "       [0.20219407, 0.79780593],\n",
       "       [0.35415521, 0.64584479],\n",
       "       [0.31536785, 0.68463215],\n",
       "       [0.2188261 , 0.7811739 ],\n",
       "       [0.3774125 , 0.6225875 ],\n",
       "       [0.37452597, 0.62547403],\n",
       "       [0.37466037, 0.62533963],\n",
       "       [0.46889146, 0.53110854],\n",
       "       [0.27090818, 0.72909182],\n",
       "       [0.36832506, 0.63167494],\n",
       "       [0.26114827, 0.73885173],\n",
       "       [0.48415451, 0.51584549],\n",
       "       [0.17540571, 0.82459429],\n",
       "       [0.49270883, 0.50729117],\n",
       "       [0.23196986, 0.76803014],\n",
       "       [0.08120887, 0.91879113],\n",
       "       [0.30504464, 0.69495536],\n",
       "       [0.22847752, 0.77152248],\n",
       "       [0.29418737, 0.70581263],\n",
       "       [0.41770902, 0.58229098],\n",
       "       [0.2760021 , 0.7239979 ],\n",
       "       [0.40566932, 0.59433068],\n",
       "       [0.45339157, 0.54660843],\n",
       "       [0.3564696 , 0.6435304 ],\n",
       "       [0.4670073 , 0.5329927 ],\n",
       "       [0.34411017, 0.65588983],\n",
       "       [0.16982323, 0.83017677],\n",
       "       [0.19704983, 0.80295017],\n",
       "       [0.35555874, 0.64444126],\n",
       "       [0.37553992, 0.62446008],\n",
       "       [0.38274799, 0.61725201],\n",
       "       [0.38877291, 0.61122709],\n",
       "       [0.50700195, 0.49299805],\n",
       "       [0.27680689, 0.72319311],\n",
       "       [0.45167561, 0.54832439]])"
      ]
     },
     "execution_count": 54,
     "metadata": {},
     "output_type": "execute_result"
    }
   ],
   "source": [
    "y_scores"
   ]
  },
  {
   "cell_type": "code",
   "execution_count": 55,
   "metadata": {},
   "outputs": [],
   "source": [
    "y_scores = y_scores[:, 1]"
   ]
  },
  {
   "cell_type": "code",
   "execution_count": null,
   "metadata": {},
   "outputs": [],
   "source": []
  },
  {
   "cell_type": "code",
   "execution_count": 56,
   "metadata": {},
   "outputs": [],
   "source": [
    "precisions, recalls, thresholds = precision_recall_curve(test_y, y_scores)"
   ]
  },
  {
   "cell_type": "code",
   "execution_count": 57,
   "metadata": {},
   "outputs": [],
   "source": [
    "def plot_precision_recall_vs_threshold(precisions, recalls, thresholds):\n",
    "    plt.plot(thresholds, precisions[:-1], \"b--\", label=\"Precision\")\n",
    "    plt.plot(thresholds, recalls[:-1], \"g-\", label=\"Recall\")\n",
    "    plt.legend(loc=\"upper left\")\n",
    " # highlight the threshold and add the legend, axis label, and grid\n"
   ]
  },
  {
   "cell_type": "code",
   "execution_count": 58,
   "metadata": {},
   "outputs": [
    {
     "data": {
      "image/png": "[encoded data removed]",
      "text/plain": [
       "<Figure size 432x288 with 1 Axes>"
      ]
     },
     "metadata": {
      "needs_background": "light"
     },
     "output_type": "display_data"
    }
   ],
   "source": [
    "plot_precision_recall_vs_threshold(precisions, recalls, thresholds)"
   ]
  },
  {
   "cell_type": "code",
   "execution_count": 59,
   "metadata": {},
   "outputs": [],
   "source": [
    "from sklearn.metrics import roc_curve\n",
    "fpr, tpr, thresholds = roc_curve(test_y, y_scores)"
   ]
  },
  {
   "cell_type": "code",
   "execution_count": 60,
   "metadata": {},
   "outputs": [
    {
     "name": "stderr",
     "output_type": "stream",
     "text": [
      "No handles with labels found to put in legend.\n"
     ]
    },
    {
     "data": {
      "image/png": "[encoded data removed]",
      "text/plain": [
       "<Figure size 432x288 with 1 Axes>"
      ]
     },
     "metadata": {
      "needs_background": "light"
     },
     "output_type": "display_data"
    }
   ],
   "source": [
    "def plot_roc_curve(fpr, tpr, label=None, figure=(12,10)):\n",
    "    plt.plot(fpr, tpr, linewidth=2, label=label)\n",
    "    plt.plot([0, 1], [0, 1], 'k--') # Dashed diagonal # Add axis labels and grid\n",
    "    #plt.figure(figsize=figure)\n",
    "    plt.xlabel('True Positive Rate(Recall)')\n",
    "    plt.ylabel(\"False Positive Rate(1-specificity)\")\n",
    "    plt.legend()\n",
    "plot_roc_curve(fpr, tpr)"
   ]
  },
  {
   "cell_type": "code",
   "execution_count": 61,
   "metadata": {},
   "outputs": [
    {
     "data": {
      "text/plain": [
       "0.7303030303030303"
      ]
     },
     "execution_count": 61,
     "metadata": {},
     "output_type": "execute_result"
    }
   ],
   "source": [
    "from sklearn.metrics import roc_auc_score\n",
    "roc_auc_score(test_y, y_scores)"
   ]
  },
  {
   "cell_type": "code",
   "execution_count": 127,
   "metadata": {},
   "outputs": [
    {
     "data": {
      "text/plain": [
       "['thal_rf200.pkl']"
      ]
     },
     "execution_count": 127,
     "metadata": {},
     "output_type": "execute_result"
    }
   ],
   "source": [
    "#saving the model:\n",
    "import joblib\n",
    "joblib.dump(model1, \"thal_rf200.pkl\")\n",
    "# and later...\n",
    "#my_model_loaded = joblib.load(\"my_model.pkl\")"
   ]
  },
  {
   "cell_type": "code",
   "execution_count": 63,
   "metadata": {},
   "outputs": [
    {
     "name": "stderr",
     "output_type": "stream",
     "text": [
      "[Parallel(n_jobs=12)]: Using backend ThreadingBackend with 12 concurrent workers.\n",
      "[Parallel(n_jobs=12)]: Done  26 tasks      | elapsed:    0.0s\n",
      "[Parallel(n_jobs=12)]: Done 176 tasks      | elapsed:    0.0s\n",
      "[Parallel(n_jobs=12)]: Done 200 out of 200 | elapsed:    0.0s finished\n"
     ]
    },
    {
     "data": {
      "text/plain": [
       "array([[ 2,  0],\n",
       "       [ 9, 30]], dtype=int64)"
      ]
     },
     "execution_count": 63,
     "metadata": {},
     "output_type": "execute_result"
    }
   ],
   "source": [
    "from sklearn.metrics import confusion_matrix\n",
    "from sklearn.metrics import plot_confusion_matrix\n",
    "confused = confusion_matrix(model.predict(trans_testX_df), test_y)\n",
    "confused\n"
   ]
  },
  {
   "cell_type": "code",
   "execution_count": 64,
   "metadata": {},
   "outputs": [
    {
     "name": "stderr",
     "output_type": "stream",
     "text": [
      "[Parallel(n_jobs=12)]: Using backend ThreadingBackend with 12 concurrent workers.\n",
      "[Parallel(n_jobs=12)]: Done  26 tasks      | elapsed:    0.0s\n",
      "[Parallel(n_jobs=12)]: Done 176 tasks      | elapsed:    0.0s\n",
      "[Parallel(n_jobs=12)]: Done 200 out of 200 | elapsed:    0.0s finished\n"
     ]
    },
    {
     "data": {
      "text/plain": [
       "<sklearn.metrics._plot.confusion_matrix.ConfusionMatrixDisplay at 0x20d3a29a308>"
      ]
     },
     "execution_count": 64,
     "metadata": {},
     "output_type": "execute_result"
    },
    {
     "data": {
      "image/png": "[encoded data removed]",
      "text/plain": [
       "<Figure size 720x720 with 2 Axes>"
      ]
     },
     "metadata": {
      "needs_background": "light"
     },
     "output_type": "display_data"
    }
   ],
   "source": [
    "fig, ax = plt.subplots(figsize=(10, 10))\n",
    "plot_confusion_matrix (model, trans_testX_df, test_y, cmap=plt.cm.Blues, display_labels=['normals', 'alpha carriers'], ax=ax)"
   ]
  },
  {
   "cell_type": "code",
   "execution_count": null,
   "metadata": {},
   "outputs": [],
   "source": []
  },
  {
   "cell_type": "code",
   "execution_count": 65,
   "metadata": {},
   "outputs": [],
   "source": [
    "from imblearn.over_sampling import SMOTE\n",
    "sm = SMOTE(random_state = 2)\n",
    "X_train_res, y_train_res = sm.fit_sample(trans_trainX_df, train_y)\n",
    "  "
   ]
  },
  {
   "cell_type": "code",
   "execution_count": 66,
   "metadata": {},
   "outputs": [
    {
     "data": {
      "text/plain": [
       "0    118\n",
       "1    118\n",
       "Name: phenotype, dtype: int64"
      ]
     },
     "execution_count": 66,
     "metadata": {},
     "output_type": "execute_result"
    }
   ],
   "source": [
    "y_train_res.value_counts()"
   ]
  },
  {
   "cell_type": "code",
   "execution_count": 67,
   "metadata": {},
   "outputs": [
    {
     "name": "stderr",
     "output_type": "stream",
     "text": [
      "[Parallel(n_jobs=-1)]: Using backend ThreadingBackend with 12 concurrent workers.\n",
      "[Parallel(n_jobs=-1)]: Done  26 tasks      | elapsed:    0.1s\n",
      "[Parallel(n_jobs=-1)]: Done 176 tasks      | elapsed:    0.6s\n",
      "[Parallel(n_jobs=-1)]: Done 400 out of 400 | elapsed:    1.3s finished\n"
     ]
    },
    {
     "data": {
      "text/plain": [
       "RandomForestClassifier(max_features=0.5, min_samples_leaf=4, n_estimators=400,\n",
       "                       n_jobs=-1, oob_score=True, verbose=True)"
      ]
     },
     "execution_count": 67,
     "metadata": {},
     "output_type": "execute_result"
    }
   ],
   "source": [
    "model = RandomForestClassifier(verbose=True, oob_score=True, n_estimators=400, max_features=0.5, n_jobs=-1, min_samples_leaf=4)\n",
    "model.fit(X_train_res, y_train_res)\n"
   ]
  },
  {
   "cell_type": "raw",
   "metadata": {},
   "source": [
    "https://machinelearningmastery.com/smote-oversampling-for-imbalanced-classification/"
   ]
  },
  {
   "cell_type": "code",
   "execution_count": 68,
   "metadata": {},
   "outputs": [
    {
     "name": "stderr",
     "output_type": "stream",
     "text": [
      "[Parallel(n_jobs=12)]: Using backend ThreadingBackend with 12 concurrent workers.\n",
      "[Parallel(n_jobs=12)]: Done  26 tasks      | elapsed:    0.0s\n",
      "[Parallel(n_jobs=12)]: Done 176 tasks      | elapsed:    0.0s\n"
     ]
    },
    {
     "name": "stdout",
     "output_type": "stream",
     "text": [
      "              precision    recall  f1-score   support\n",
      "\n",
      "           0       0.97      0.97      0.97       117\n",
      "           1       0.97      0.97      0.97       119\n",
      "\n",
      "    accuracy                           0.97       236\n",
      "   macro avg       0.97      0.97      0.97       236\n",
      "weighted avg       0.97      0.97      0.97       236\n",
      "\n"
     ]
    },
    {
     "name": "stderr",
     "output_type": "stream",
     "text": [
      "[Parallel(n_jobs=12)]: Done 400 out of 400 | elapsed:    0.2s finished\n"
     ]
    }
   ],
   "source": [
    "print(classification_report(model.predict(X_train_res), y_train_res))"
   ]
  },
  {
   "cell_type": "code",
   "execution_count": 69,
   "metadata": {},
   "outputs": [
    {
     "name": "stdout",
     "output_type": "stream",
     "text": [
      "              precision    recall  f1-score   support\n",
      "\n",
      "           0       0.73      0.47      0.57        17\n",
      "           1       0.70      0.88      0.78        24\n",
      "\n",
      "    accuracy                           0.71        41\n",
      "   macro avg       0.71      0.67      0.67        41\n",
      "weighted avg       0.71      0.71      0.69        41\n",
      "\n"
     ]
    },
    {
     "name": "stderr",
     "output_type": "stream",
     "text": [
      "[Parallel(n_jobs=12)]: Using backend ThreadingBackend with 12 concurrent workers.\n",
      "[Parallel(n_jobs=12)]: Done  26 tasks      | elapsed:    0.0s\n",
      "[Parallel(n_jobs=12)]: Done 176 tasks      | elapsed:    0.0s\n",
      "[Parallel(n_jobs=12)]: Done 400 out of 400 | elapsed:    0.0s finished\n"
     ]
    }
   ],
   "source": [
    "print(classification_report(model.predict(trans_testX_df), test_y))"
   ]
  },
  {
   "cell_type": "code",
   "execution_count": 70,
   "metadata": {},
   "outputs": [
    {
     "name": "stderr",
     "output_type": "stream",
     "text": [
      "[Parallel(n_jobs=12)]: Using backend ThreadingBackend with 12 concurrent workers.\n",
      "[Parallel(n_jobs=12)]: Done  26 tasks      | elapsed:    0.0s\n",
      "[Parallel(n_jobs=12)]: Done 176 tasks      | elapsed:    0.0s\n",
      "[Parallel(n_jobs=12)]: Done 400 out of 400 | elapsed:    0.0s finished\n"
     ]
    },
    {
     "data": {
      "text/plain": [
       "<sklearn.metrics._plot.confusion_matrix.ConfusionMatrixDisplay at 0x20d3bbe2388>"
      ]
     },
     "execution_count": 70,
     "metadata": {},
     "output_type": "execute_result"
    },
    {
     "data": {
      "image/png": "[encoded data removed]",
      "text/plain": [
       "<Figure size 720x720 with 2 Axes>"
      ]
     },
     "metadata": {
      "needs_background": "light"
     },
     "output_type": "display_data"
    }
   ],
   "source": [
    "fig, ax = plt.subplots(figsize=(10, 10))\n",
    "plot_confusion_matrix (model, trans_testX_df, test_y, cmap=plt.cm.Blues, display_labels=['normals', 'alpha carriers'], ax=ax)"
   ]
  },
  {
   "cell_type": "code",
   "execution_count": 73,
   "metadata": {},
   "outputs": [],
   "source": [
    "from xgboost import XGBClassifier as xgb"
   ]
  },
  {
   "cell_type": "code",
   "execution_count": 74,
   "metadata": {},
   "outputs": [
    {
     "data": {
      "text/plain": [
       "XGBClassifier()"
      ]
     },
     "execution_count": 74,
     "metadata": {},
     "output_type": "execute_result"
    }
   ],
   "source": [
    "xgbmodel = xgb()\n",
    "xgbmodel.fit(X_train_res, y_train_res)"
   ]
  },
  {
   "cell_type": "code",
   "execution_count": 75,
   "metadata": {},
   "outputs": [
    {
     "name": "stdout",
     "output_type": "stream",
     "text": [
      "              precision    recall  f1-score   support\n",
      "\n",
      "           0       0.99      1.00      1.00       117\n",
      "           1       1.00      0.99      1.00       119\n",
      "\n",
      "    accuracy                           1.00       236\n",
      "   macro avg       1.00      1.00      1.00       236\n",
      "weighted avg       1.00      1.00      1.00       236\n",
      "\n"
     ]
    }
   ],
   "source": [
    "print(classification_report(xgbmodel.predict(X_train_res), y_train_res))"
   ]
  },
  {
   "cell_type": "code",
   "execution_count": 76,
   "metadata": {},
   "outputs": [
    {
     "name": "stdout",
     "output_type": "stream",
     "text": [
      "              precision    recall  f1-score   support\n",
      "\n",
      "           0       0.64      0.54      0.58        13\n",
      "           1       0.80      0.86      0.83        28\n",
      "\n",
      "    accuracy                           0.76        41\n",
      "   macro avg       0.72      0.70      0.71        41\n",
      "weighted avg       0.75      0.76      0.75        41\n",
      "\n"
     ]
    }
   ],
   "source": [
    "print(classification_report(xgbmodel.predict(trans_testX_df), test_y))"
   ]
  },
  {
   "cell_type": "code",
   "execution_count": null,
   "metadata": {},
   "outputs": [],
   "source": [
    "#grid search for xgb\n",
    "param_grid = [\n",
    "{'learning_rate': [0.01, 0.05, 0.1, 0.15, 0.2, 0.25], 'max_features': [0.5, 'sqrt', 'log2'], 'min_samples_leaf':[4], \n",
    " 'n_jobs':[-1]},\n",
    "{'n_estimators': [100, 150, 200, 250, 300, 350, 400, 450, 500], 'max_features': [0.5, 'sqrt', 'log2'],  \n",
    " 'n_jobs':[-1]}, \n",
    "   ]\n",
    "\n",
    "rf = RandomForestClassifier()\n",
    "grid_search = GridSearchCV(rf, param_grid, cv=5,\n",
    "scoring='accuracy',\n",
    "return_train_score=True)\n",
    "grid_search.fit(trans_trainX_df, train_y)"
   ]
  },
  {
   "cell_type": "code",
   "execution_count": null,
   "metadata": {},
   "outputs": [],
   "source": [
    "from sklearn.model_selection import cross_val_score\n",
    "from sklearn.model_selection import RepeatedStratifiedKFold\n",
    "\n",
    "# define model\n",
    "model2 = RandomForestClassifier()\n",
    "# evaluate pipeline\n",
    "cv = RepeatedStratifiedKFold(n_splits=10, n_repeats=3, random_state=1)\n",
    "scores = cross_val_score(model2, X, y, scoring='roc_auc', cv=cv, n_jobs=-1)\n",
    "print('Mean ROC AUC: %.3f' % mean(scores))"
   ]
  },
  {
   "cell_type": "code",
   "execution_count": null,
   "metadata": {},
   "outputs": [],
   "source": []
  }
 ],
 "metadata": {
  "kernelspec": {
   "display_name": "Python 3",
   "language": "python",
   "name": "python3"
  },
  "language_info": {
   "codemirror_mode": {
    "name": "ipython",
    "version": 3
   },
   "file_extension": ".py",
   "mimetype": "text/x-python",
   "name": "python",
   "nbconvert_exporter": "python",
   "pygments_lexer": "ipython3",
   "version": "3.7.4"
  }
 },
 "nbformat": 4,
 "nbformat_minor": 4
}
